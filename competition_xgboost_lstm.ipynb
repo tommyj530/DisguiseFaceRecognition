{
 "cells": [
  {
   "cell_type": "markdown",
   "metadata": {},
   "source": [
    "# Install packages and set path"
   ]
  },
  {
   "cell_type": "code",
   "execution_count": 1,
   "metadata": {},
   "outputs": [],
   "source": [
    "# Libraries\n",
    "\n",
    "import matplotlib.pyplot as plt\n",
    "import pandas as pd\n",
    "import torch\n",
    "\n",
    "# Preliminaries\n",
    "\n",
    "from torchtext.data import Field, TabularDataset, BucketIterator\n",
    "import torch.nn.functional as F\n",
    "from sklearn.model_selection import train_test_split\n",
    "\n",
    "# Training\n",
    "\n",
    "import torch.optim as optim\n",
    "\n",
    "# Evaluation\n",
    "\n",
    "from sklearn.metrics import accuracy_score, classification_report, confusion_matrix\n",
    "import seaborn as sns"
   ]
  },
  {
   "cell_type": "code",
   "execution_count": 2,
   "metadata": {},
   "outputs": [],
   "source": [
    "import os\n",
    "import glob\n",
    "import pandas as pd\n",
    "import numpy as np\n",
    "from scipy import signal\n",
    "from sklearn.model_selection import GridSearchCV\n",
    "from xgboost import XGBClassifier\n",
    "from sklearn.model_selection import KFold, cross_validate\n",
    "import torch\n",
    "from torch import nn\n",
    "\n",
    "path = \"/home/18rvb/ELEC872/competition/Competition/\""
   ]
  },
  {
   "cell_type": "code",
   "execution_count": 3,
   "metadata": {},
   "outputs": [],
   "source": [
    "# train_meta contains filenames of training data and corresponding labels\n",
    "\n",
    "train_meta = pd.read_csv(path + '/train_meta.txt', delimiter = ' ', header=None, names=['filename', 'labels'])"
   ]
  },
  {
   "cell_type": "code",
   "execution_count": 4,
   "metadata": {},
   "outputs": [],
   "source": [
    "train_meta['labels'] = train_meta['labels'].str.replace('[','')\n",
    "train_meta['labels'] = train_meta['labels'].str.replace(']','')"
   ]
  },
  {
   "cell_type": "code",
   "execution_count": 5,
   "metadata": {},
   "outputs": [],
   "source": [
    "train_meta['labels'] = train_meta.labels.apply(pd.to_numeric, errors='coerce')"
   ]
  },
  {
   "cell_type": "code",
   "execution_count": 6,
   "metadata": {},
   "outputs": [],
   "source": [
    "train_meta['labels'] = pd.to_numeric(train_meta.labels, errors='coerce')"
   ]
  },
  {
   "cell_type": "code",
   "execution_count": 7,
   "metadata": {},
   "outputs": [],
   "source": [
    "# check if balanced dataset\n",
    "\n",
    "# train_meta.labels.value_counts()"
   ]
  },
  {
   "cell_type": "code",
   "execution_count": 8,
   "metadata": {},
   "outputs": [],
   "source": [
    "num_list = []\n",
    "for i in train_meta['filename']:\n",
    "    temp_list = np.genfromtxt(path + i)\n",
    "    num_list.append(temp_list)"
   ]
  },
  {
   "cell_type": "code",
   "execution_count": 9,
   "metadata": {},
   "outputs": [],
   "source": [
    "train_meta['features'] = num_list"
   ]
  },
  {
   "cell_type": "code",
   "execution_count": 10,
   "metadata": {},
   "outputs": [],
   "source": [
    "from sklearn.preprocessing import minmax_scale"
   ]
  },
  {
   "cell_type": "code",
   "execution_count": 11,
   "metadata": {},
   "outputs": [],
   "source": [
    "scaled_values = []\n",
    "for val in train_meta.features:\n",
    "    scaled_values.append(minmax_scale(val))"
   ]
  },
  {
   "cell_type": "code",
   "execution_count": 12,
   "metadata": {},
   "outputs": [],
   "source": [
    "train_meta['scaled'] = scaled_values"
   ]
  },
  {
   "cell_type": "code",
   "execution_count": 271,
   "metadata": {},
   "outputs": [],
   "source": [
    "# Possible features: rms, mean, max, min, med, skew, kurt, std, iqr, max_energy_freq, mean_freq, median_freq, waveform_length, zero_crossing\n",
    "\n",
    "means = []\n",
    "\n",
    "for i in train_meta.features:\n",
    "    temp_means = []\n",
    "    for k in i:\n",
    "        temp_means.append(np.mean(k))\n",
    "    means.append(temp_means)\n",
    "    \n",
    "train_meta['means'] = means"
   ]
  },
  {
   "cell_type": "code",
   "execution_count": 272,
   "metadata": {},
   "outputs": [],
   "source": [
    "mins = []\n",
    "\n",
    "for i in train_meta.features:\n",
    "    temp_mins = []\n",
    "    for k in i:\n",
    "        temp_mins.append(np.min(k))\n",
    "    mins.append(temp_mins)\n",
    "    \n",
    "train_meta['mins'] = mins"
   ]
  },
  {
   "cell_type": "code",
   "execution_count": 273,
   "metadata": {},
   "outputs": [],
   "source": [
    "maxes = []\n",
    "\n",
    "for i in train_meta.features:\n",
    "    temp_max = []\n",
    "    for k in i:\n",
    "        temp_max.append(np.max(k))\n",
    "    maxes.append(temp_max)\n",
    "    \n",
    "train_meta['maxes'] = maxes"
   ]
  },
  {
   "cell_type": "code",
   "execution_count": 274,
   "metadata": {},
   "outputs": [],
   "source": [
    "median = []\n",
    "\n",
    "for i in train_meta.features:\n",
    "    temp_median = []\n",
    "    for k in i:\n",
    "        temp_median.append(np.median(k))\n",
    "    median.append(temp_median)\n",
    "    \n",
    "train_meta['median'] = median"
   ]
  },
  {
   "cell_type": "code",
   "execution_count": 275,
   "metadata": {},
   "outputs": [],
   "source": [
    "std = []\n",
    "\n",
    "for i in train_meta.features:\n",
    "    temp_std = []\n",
    "    for k in i:\n",
    "        temp_std.append(np.std(k))\n",
    "    std.append(temp_std)\n",
    "    \n",
    "train_meta['std'] = std"
   ]
  },
  {
   "cell_type": "code",
   "execution_count": 276,
   "metadata": {},
   "outputs": [],
   "source": [
    "rms = []\n",
    "\n",
    "for i in train_meta.features:\n",
    "    temp_rms = []\n",
    "    for k in i:\n",
    "        temp_rms.append(np.sqrt(np.mean(k**2)))\n",
    "    rms.append(temp_rms)\n",
    "    \n",
    "train_meta['rms'] = rms"
   ]
  },
  {
   "cell_type": "code",
   "execution_count": 277,
   "metadata": {},
   "outputs": [
    {
     "data": {
      "text/html": [
       "<div>\n",
       "<style scoped>\n",
       "    .dataframe tbody tr th:only-of-type {\n",
       "        vertical-align: middle;\n",
       "    }\n",
       "\n",
       "    .dataframe tbody tr th {\n",
       "        vertical-align: top;\n",
       "    }\n",
       "\n",
       "    .dataframe thead th {\n",
       "        text-align: right;\n",
       "    }\n",
       "</style>\n",
       "<table border=\"1\" class=\"dataframe\">\n",
       "  <thead>\n",
       "    <tr style=\"text-align: right;\">\n",
       "      <th></th>\n",
       "      <th>filename</th>\n",
       "      <th>labels</th>\n",
       "      <th>features</th>\n",
       "      <th>scaled</th>\n",
       "      <th>means</th>\n",
       "      <th>median</th>\n",
       "      <th>std</th>\n",
       "      <th>rms</th>\n",
       "      <th>maxes</th>\n",
       "      <th>mins</th>\n",
       "    </tr>\n",
       "  </thead>\n",
       "  <tbody>\n",
       "    <tr>\n",
       "      <th>0</th>\n",
       "      <td>/train/GiLImBvDWs.csv</td>\n",
       "      <td>5</td>\n",
       "      <td>[[-9.66962, -1.20624, -0.763766, -3.86514, 1.0...</td>\n",
       "      <td>[[0.566780549817258, 0.17854933381618454, 0.99...</td>\n",
       "      <td>[-3.211244555555555, -3.207782, -3.20647433333...</td>\n",
       "      <td>[-0.763766, -0.772598, -0.791928, -0.822014, -...</td>\n",
       "      <td>[5.896175141545032, 5.880682855680641, 5.86252...</td>\n",
       "      <td>[6.7139387020852945, 6.698678691251001, 6.6821...</td>\n",
       "      <td>[1.90179, 1.88929, 1.87494, 1.86386, 1.84832, ...</td>\n",
       "      <td>[-17.019, -16.9636, -16.9007, -16.8297, -16.74...</td>\n",
       "    </tr>\n",
       "    <tr>\n",
       "      <th>1</th>\n",
       "      <td>/train/VQEyZLyBMp.csv</td>\n",
       "      <td>5</td>\n",
       "      <td>[[1.38216, -0.128894, -2.18949, -8.38661, 0.27...</td>\n",
       "      <td>[[0.2734943334482953, 0.39448590438490483, 0.0...</td>\n",
       "      <td>[1.1413136555555556, 1.149737022222222, 1.1586...</td>\n",
       "      <td>[0.275239, 0.25868, 0.245538, 0.23784, 0.22358...</td>\n",
       "      <td>[5.968897493169099, 5.9594234160174775, 5.9505...</td>\n",
       "      <td>[6.077033334145694, 6.069318138938332, 6.06231...</td>\n",
       "      <td>[15.7356, 15.7463, 15.7528, 15.7543, 15.7435, ...</td>\n",
       "      <td>[-8.38661, -8.32712, -8.27562, -8.22875, -8.15...</td>\n",
       "    </tr>\n",
       "    <tr>\n",
       "      <th>2</th>\n",
       "      <td>/train/AdgWYaoORE.csv</td>\n",
       "      <td>5</td>\n",
       "      <td>[[-8.91717, -0.687015, -1.48425, -2.78385, 0.5...</td>\n",
       "      <td>[[0.4745658403369415, 0.7434271672075722, 0.07...</td>\n",
       "      <td>[-2.937389777777778, -2.932377444444445, -2.92...</td>\n",
       "      <td>[-0.687015, -0.698856, -0.710341, -0.720778, -...</td>\n",
       "      <td>[5.111957573458653, 5.114029609246989, 5.11374...</td>\n",
       "      <td>[5.895792477643244, 5.895094258868253, 5.89177...</td>\n",
       "      <td>[0.978509, 0.985974, 0.993111, 1.00182, 1.0116...</td>\n",
       "      <td>[-14.8773, -14.8729, -14.8605, -14.8457, -14.8...</td>\n",
       "    </tr>\n",
       "    <tr>\n",
       "      <th>3</th>\n",
       "      <td>/train/lKhsadfBkL.csv</td>\n",
       "      <td>5</td>\n",
       "      <td>[[2.37224, -0.749576, -0.448302, -6.5086, 0.57...</td>\n",
       "      <td>[[0.29074703213231956, 0.18891469573442898, 0....</td>\n",
       "      <td>[0.238337888888889, 0.23560888888888887, 0.217...</td>\n",
       "      <td>[0.575349, 0.582675, 0.584939, 0.633389, 0.653...</td>\n",
       "      <td>[2.6670133308286776, 2.6983997285319745, 2.755...</td>\n",
       "      <td>[2.6776416967357473, 2.708666211157235, 2.7638...</td>\n",
       "      <td>[3.01892, 3.02082, 3.07354, 3.05894, 3.06196, ...</td>\n",
       "      <td>[-6.5086, -6.57876, -6.74929, -6.5113, -6.4960...</td>\n",
       "    </tr>\n",
       "    <tr>\n",
       "      <th>4</th>\n",
       "      <td>/train/DKwGHgrHLG.csv</td>\n",
       "      <td>5</td>\n",
       "      <td>[[-8.81887, -0.0930824, -0.567127, 4.8778, -0....</td>\n",
       "      <td>[[0.6999064197978475, 0.2572575567216022, 0.86...</td>\n",
       "      <td>[-2.2249259333333335, -2.220695777777778, -2.2...</td>\n",
       "      <td>[-0.0930824, -0.101238, -0.109498, -0.117654, ...</td>\n",
       "      <td>[6.902218425274151, 6.892162149960471, 6.88511...</td>\n",
       "      <td>[7.251959362752469, 7.241090307321667, 7.23330...</td>\n",
       "      <td>[4.8778, 4.88565, 4.9011, 4.92128, 4.94049, 4....</td>\n",
       "      <td>[-19.0621, -19.0378, -19.022, -19.0063, -18.98...</td>\n",
       "    </tr>\n",
       "    <tr>\n",
       "      <th>...</th>\n",
       "      <td>...</td>\n",
       "      <td>...</td>\n",
       "      <td>...</td>\n",
       "      <td>...</td>\n",
       "      <td>...</td>\n",
       "      <td>...</td>\n",
       "      <td>...</td>\n",
       "      <td>...</td>\n",
       "      <td>...</td>\n",
       "      <td>...</td>\n",
       "    </tr>\n",
       "    <tr>\n",
       "      <th>1345</th>\n",
       "      <td>/train/KmaBQPpvuV.csv</td>\n",
       "      <td>0</td>\n",
       "      <td>[[5.1333, -1.03626, 4.28043, -20.2308, 2.03229...</td>\n",
       "      <td>[[0.8466238453420969, 0.0, 0.9999999999999999,...</td>\n",
       "      <td>[3.35037, 3.3527384444444444, 3.33179888888888...</td>\n",
       "      <td>[2.40088, 2.46057, 2.47082, 2.44175, 2.30596, ...</td>\n",
       "      <td>[12.028850382953847, 12.028936154911227, 12.02...</td>\n",
       "      <td>[12.4867217744446, 12.48744009378168, 12.48107...</td>\n",
       "      <td>[30.0248, 30.0561, 30.1365, 30.1265, 30.1536, ...</td>\n",
       "      <td>[-20.2308, -20.206, -20.1254, -19.9985, -19.92...</td>\n",
       "    </tr>\n",
       "    <tr>\n",
       "      <th>1346</th>\n",
       "      <td>/train/THvCkkaZzj.csv</td>\n",
       "      <td>0</td>\n",
       "      <td>[[2.35843, 1.58066, 1.10583, -24.4188, 1.8761,...</td>\n",
       "      <td>[[0.17336729805209217, 0.5800102419545734, 0.4...</td>\n",
       "      <td>[1.3071604444444445, 1.2822006666666668, 1.219...</td>\n",
       "      <td>[1.58066, 1.5715, 1.58053, 1.57022, 1.53138, 1...</td>\n",
       "      <td>[11.372685329352743, 11.363242801631428, 11.34...</td>\n",
       "      <td>[11.447560440023688, 11.43535419295917, 11.411...</td>\n",
       "      <td>[23.3986, 23.2437, 23.0524, 22.7644, 22.4101, ...</td>\n",
       "      <td>[-24.4188, -24.5299, -24.6266, -24.6404, -24.5...</td>\n",
       "    </tr>\n",
       "    <tr>\n",
       "      <th>1347</th>\n",
       "      <td>/train/kqdPRRxErl.csv</td>\n",
       "      <td>0</td>\n",
       "      <td>[[-1.0766, -0.650192, 4.8696, -21.6198, -1.976...</td>\n",
       "      <td>[[0.36967408034961613, 0.2330570725537875, 0.8...</td>\n",
       "      <td>[0.6638921111111113, 0.7039058888888884, 0.796...</td>\n",
       "      <td>[-0.764809, -0.751949, -0.916217, -1.04173, -1...</td>\n",
       "      <td>[11.746792317965335, 11.828143714019394, 11.57...</td>\n",
       "      <td>[11.765537917860154, 11.849070310362286, 11.60...</td>\n",
       "      <td>[26.3881, 26.6433, 26.0263, 23.4594, 20.1684, ...</td>\n",
       "      <td>[-21.6198, -21.7686, -21.2018, -18.7096, -15.1...</td>\n",
       "    </tr>\n",
       "    <tr>\n",
       "      <th>1348</th>\n",
       "      <td>/train/XMCflmfeyQ.csv</td>\n",
       "      <td>0</td>\n",
       "      <td>[[0.664292, 1.28113, 2.70629, -19.0547, 0.5641...</td>\n",
       "      <td>[[0.6883984312153334, 0.5930026583475427, 0.57...</td>\n",
       "      <td>[1.5015572222222222, 1.4337159999999995, 1.370...</td>\n",
       "      <td>[1.28113, 1.01986, 0.719702, 0.67021, 0.769737...</td>\n",
       "      <td>[10.081449476160767, 10.202951480173034, 10.25...</td>\n",
       "      <td>[10.192659006951517, 10.303191761557246, 10.34...</td>\n",
       "      <td>[23.5239, 23.6376, 23.7018, 23.401, 23.251, 23...</td>\n",
       "      <td>[-19.0547, -19.4527, -19.5741, -19.5552, -19.6...</td>\n",
       "    </tr>\n",
       "    <tr>\n",
       "      <th>1349</th>\n",
       "      <td>/train/SEHrRlwCzK.csv</td>\n",
       "      <td>0</td>\n",
       "      <td>[[-1.22504, -1.58918, 6.5169, -22.0025, -8.039...</td>\n",
       "      <td>[[0.37546115242577915, 0.2165169671029735, 0.7...</td>\n",
       "      <td>[-1.5751811111111111, -1.5631377777777775, -1....</td>\n",
       "      <td>[-1.58918, -1.70852, -1.90109, -2.08984, -2.22...</td>\n",
       "      <td>[11.700960267042138, 11.708565885568827, 11.77...</td>\n",
       "      <td>[11.806509505510085, 11.812447452116865, 11.87...</td>\n",
       "      <td>[19.9788, 19.8685, 19.8283, 19.8696, 19.7999, ...</td>\n",
       "      <td>[-22.0025, -21.685, -21.5419, -21.6078, -21.49...</td>\n",
       "    </tr>\n",
       "  </tbody>\n",
       "</table>\n",
       "<p>1350 rows × 10 columns</p>\n",
       "</div>"
      ],
      "text/plain": [
       "                   filename  labels  \\\n",
       "0     /train/GiLImBvDWs.csv       5   \n",
       "1     /train/VQEyZLyBMp.csv       5   \n",
       "2     /train/AdgWYaoORE.csv       5   \n",
       "3     /train/lKhsadfBkL.csv       5   \n",
       "4     /train/DKwGHgrHLG.csv       5   \n",
       "...                     ...     ...   \n",
       "1345  /train/KmaBQPpvuV.csv       0   \n",
       "1346  /train/THvCkkaZzj.csv       0   \n",
       "1347  /train/kqdPRRxErl.csv       0   \n",
       "1348  /train/XMCflmfeyQ.csv       0   \n",
       "1349  /train/SEHrRlwCzK.csv       0   \n",
       "\n",
       "                                               features  \\\n",
       "0     [[-9.66962, -1.20624, -0.763766, -3.86514, 1.0...   \n",
       "1     [[1.38216, -0.128894, -2.18949, -8.38661, 0.27...   \n",
       "2     [[-8.91717, -0.687015, -1.48425, -2.78385, 0.5...   \n",
       "3     [[2.37224, -0.749576, -0.448302, -6.5086, 0.57...   \n",
       "4     [[-8.81887, -0.0930824, -0.567127, 4.8778, -0....   \n",
       "...                                                 ...   \n",
       "1345  [[5.1333, -1.03626, 4.28043, -20.2308, 2.03229...   \n",
       "1346  [[2.35843, 1.58066, 1.10583, -24.4188, 1.8761,...   \n",
       "1347  [[-1.0766, -0.650192, 4.8696, -21.6198, -1.976...   \n",
       "1348  [[0.664292, 1.28113, 2.70629, -19.0547, 0.5641...   \n",
       "1349  [[-1.22504, -1.58918, 6.5169, -22.0025, -8.039...   \n",
       "\n",
       "                                                 scaled  \\\n",
       "0     [[0.566780549817258, 0.17854933381618454, 0.99...   \n",
       "1     [[0.2734943334482953, 0.39448590438490483, 0.0...   \n",
       "2     [[0.4745658403369415, 0.7434271672075722, 0.07...   \n",
       "3     [[0.29074703213231956, 0.18891469573442898, 0....   \n",
       "4     [[0.6999064197978475, 0.2572575567216022, 0.86...   \n",
       "...                                                 ...   \n",
       "1345  [[0.8466238453420969, 0.0, 0.9999999999999999,...   \n",
       "1346  [[0.17336729805209217, 0.5800102419545734, 0.4...   \n",
       "1347  [[0.36967408034961613, 0.2330570725537875, 0.8...   \n",
       "1348  [[0.6883984312153334, 0.5930026583475427, 0.57...   \n",
       "1349  [[0.37546115242577915, 0.2165169671029735, 0.7...   \n",
       "\n",
       "                                                  means  \\\n",
       "0     [-3.211244555555555, -3.207782, -3.20647433333...   \n",
       "1     [1.1413136555555556, 1.149737022222222, 1.1586...   \n",
       "2     [-2.937389777777778, -2.932377444444445, -2.92...   \n",
       "3     [0.238337888888889, 0.23560888888888887, 0.217...   \n",
       "4     [-2.2249259333333335, -2.220695777777778, -2.2...   \n",
       "...                                                 ...   \n",
       "1345  [3.35037, 3.3527384444444444, 3.33179888888888...   \n",
       "1346  [1.3071604444444445, 1.2822006666666668, 1.219...   \n",
       "1347  [0.6638921111111113, 0.7039058888888884, 0.796...   \n",
       "1348  [1.5015572222222222, 1.4337159999999995, 1.370...   \n",
       "1349  [-1.5751811111111111, -1.5631377777777775, -1....   \n",
       "\n",
       "                                                 median  \\\n",
       "0     [-0.763766, -0.772598, -0.791928, -0.822014, -...   \n",
       "1     [0.275239, 0.25868, 0.245538, 0.23784, 0.22358...   \n",
       "2     [-0.687015, -0.698856, -0.710341, -0.720778, -...   \n",
       "3     [0.575349, 0.582675, 0.584939, 0.633389, 0.653...   \n",
       "4     [-0.0930824, -0.101238, -0.109498, -0.117654, ...   \n",
       "...                                                 ...   \n",
       "1345  [2.40088, 2.46057, 2.47082, 2.44175, 2.30596, ...   \n",
       "1346  [1.58066, 1.5715, 1.58053, 1.57022, 1.53138, 1...   \n",
       "1347  [-0.764809, -0.751949, -0.916217, -1.04173, -1...   \n",
       "1348  [1.28113, 1.01986, 0.719702, 0.67021, 0.769737...   \n",
       "1349  [-1.58918, -1.70852, -1.90109, -2.08984, -2.22...   \n",
       "\n",
       "                                                    std  \\\n",
       "0     [5.896175141545032, 5.880682855680641, 5.86252...   \n",
       "1     [5.968897493169099, 5.9594234160174775, 5.9505...   \n",
       "2     [5.111957573458653, 5.114029609246989, 5.11374...   \n",
       "3     [2.6670133308286776, 2.6983997285319745, 2.755...   \n",
       "4     [6.902218425274151, 6.892162149960471, 6.88511...   \n",
       "...                                                 ...   \n",
       "1345  [12.028850382953847, 12.028936154911227, 12.02...   \n",
       "1346  [11.372685329352743, 11.363242801631428, 11.34...   \n",
       "1347  [11.746792317965335, 11.828143714019394, 11.57...   \n",
       "1348  [10.081449476160767, 10.202951480173034, 10.25...   \n",
       "1349  [11.700960267042138, 11.708565885568827, 11.77...   \n",
       "\n",
       "                                                    rms  \\\n",
       "0     [6.7139387020852945, 6.698678691251001, 6.6821...   \n",
       "1     [6.077033334145694, 6.069318138938332, 6.06231...   \n",
       "2     [5.895792477643244, 5.895094258868253, 5.89177...   \n",
       "3     [2.6776416967357473, 2.708666211157235, 2.7638...   \n",
       "4     [7.251959362752469, 7.241090307321667, 7.23330...   \n",
       "...                                                 ...   \n",
       "1345  [12.4867217744446, 12.48744009378168, 12.48107...   \n",
       "1346  [11.447560440023688, 11.43535419295917, 11.411...   \n",
       "1347  [11.765537917860154, 11.849070310362286, 11.60...   \n",
       "1348  [10.192659006951517, 10.303191761557246, 10.34...   \n",
       "1349  [11.806509505510085, 11.812447452116865, 11.87...   \n",
       "\n",
       "                                                  maxes  \\\n",
       "0     [1.90179, 1.88929, 1.87494, 1.86386, 1.84832, ...   \n",
       "1     [15.7356, 15.7463, 15.7528, 15.7543, 15.7435, ...   \n",
       "2     [0.978509, 0.985974, 0.993111, 1.00182, 1.0116...   \n",
       "3     [3.01892, 3.02082, 3.07354, 3.05894, 3.06196, ...   \n",
       "4     [4.8778, 4.88565, 4.9011, 4.92128, 4.94049, 4....   \n",
       "...                                                 ...   \n",
       "1345  [30.0248, 30.0561, 30.1365, 30.1265, 30.1536, ...   \n",
       "1346  [23.3986, 23.2437, 23.0524, 22.7644, 22.4101, ...   \n",
       "1347  [26.3881, 26.6433, 26.0263, 23.4594, 20.1684, ...   \n",
       "1348  [23.5239, 23.6376, 23.7018, 23.401, 23.251, 23...   \n",
       "1349  [19.9788, 19.8685, 19.8283, 19.8696, 19.7999, ...   \n",
       "\n",
       "                                                   mins  \n",
       "0     [-17.019, -16.9636, -16.9007, -16.8297, -16.74...  \n",
       "1     [-8.38661, -8.32712, -8.27562, -8.22875, -8.15...  \n",
       "2     [-14.8773, -14.8729, -14.8605, -14.8457, -14.8...  \n",
       "3     [-6.5086, -6.57876, -6.74929, -6.5113, -6.4960...  \n",
       "4     [-19.0621, -19.0378, -19.022, -19.0063, -18.98...  \n",
       "...                                                 ...  \n",
       "1345  [-20.2308, -20.206, -20.1254, -19.9985, -19.92...  \n",
       "1346  [-24.4188, -24.5299, -24.6266, -24.6404, -24.5...  \n",
       "1347  [-21.6198, -21.7686, -21.2018, -18.7096, -15.1...  \n",
       "1348  [-19.0547, -19.4527, -19.5741, -19.5552, -19.6...  \n",
       "1349  [-22.0025, -21.685, -21.5419, -21.6078, -21.49...  \n",
       "\n",
       "[1350 rows x 10 columns]"
      ]
     },
     "execution_count": 277,
     "metadata": {},
     "output_type": "execute_result"
    }
   ],
   "source": [
    "train_meta"
   ]
  },
  {
   "cell_type": "code",
   "execution_count": 18,
   "metadata": {},
   "outputs": [],
   "source": [
    "# X_train, X_test, y_train, y_test = train_test_split(train_meta.rms, train_meta.labels, test_size=0.1, random_state=42)"
   ]
  },
  {
   "cell_type": "code",
   "execution_count": 278,
   "metadata": {},
   "outputs": [],
   "source": [
    "tensor_rms = torch.tensor(train_meta['rms'].tolist())\n",
    "tensor_mean = torch.tensor(train_meta['means'].tolist())\n",
    "tensor_median = torch.tensor(train_meta['median'].tolist())\n",
    "tensor_std = torch.tensor(train_meta['std'].tolist())\n",
    "tensor_min = torch.tensor(train_meta['mins'].tolist())\n",
    "tensor_max = torch.tensor(train_meta['maxes'].tolist())\n",
    "\n",
    "labels_train = torch.tensor(train_meta.labels.tolist())"
   ]
  },
  {
   "cell_type": "code",
   "execution_count": 279,
   "metadata": {},
   "outputs": [],
   "source": [
    "all_features = torch.stack([tensor_rms, tensor_mean, tensor_median, tensor_std, tensor_min, tensor_max]).permute(1, 0, 2)"
   ]
  },
  {
   "cell_type": "markdown",
   "metadata": {},
   "source": [
    "# Hyperparameter search"
   ]
  },
  {
   "cell_type": "code",
   "execution_count": 233,
   "metadata": {},
   "outputs": [],
   "source": [
    "gsc = GridSearchCV(\n",
    "            estimator=XGBClassifier(),\n",
    "            param_grid={\"n_estimators\": [50, 100],\n",
    "                        \"learning_rate\": (0.05, 0.10, 0.20, 0.30, 0.40, 0.50),\n",
    "                        \"max_depth\": [ 3, 5, 10],\n",
    "                        \"min_child_weight\": [ 3, 5, 9],\n",
    "                        \"gamma\":[ 0.0, 0.3, 0.5],\n",
    "                        \"colsample_bytree\":[ 0.3, 0.5],},\n",
    "            cv=3, scoring='accuracy', verbose=1, n_jobs=-1)"
   ]
  },
  {
   "cell_type": "code",
   "execution_count": 22,
   "metadata": {
    "scrolled": true
   },
   "outputs": [
    {
     "name": "stdout",
     "output_type": "stream",
     "text": [
      "Fitting 3 folds for each of 648 candidates, totalling 1944 fits\n"
     ]
    },
    {
     "name": "stderr",
     "output_type": "stream",
     "text": [
      "[Parallel(n_jobs=-1)]: Using backend LokyBackend with 16 concurrent workers.\n",
      "[Parallel(n_jobs=-1)]: Done  18 tasks      | elapsed:   16.1s\n",
      "[Parallel(n_jobs=-1)]: Done 168 tasks      | elapsed:  1.7min\n",
      "[Parallel(n_jobs=-1)]: Done 418 tasks      | elapsed:  3.8min\n",
      "[Parallel(n_jobs=-1)]: Done 768 tasks      | elapsed:  6.9min\n",
      "[Parallel(n_jobs=-1)]: Done 1218 tasks      | elapsed: 12.2min\n",
      "[Parallel(n_jobs=-1)]: Done 1768 tasks      | elapsed: 19.8min\n",
      "[Parallel(n_jobs=-1)]: Done 1944 out of 1944 | elapsed: 22.1min finished\n"
     ]
    },
    {
     "data": {
      "text/plain": [
       "GridSearchCV(cv=3, estimator=XGBClassifier(), n_jobs=-1,\n",
       "             param_grid={'colsample_bytree': [0.3, 0.5],\n",
       "                         'gamma': [0.0, 0.3, 0.5],\n",
       "                         'learning_rate': (0.05, 0.1, 0.2, 0.3, 0.4, 0.5),\n",
       "                         'max_depth': [3, 5, 10], 'min_child_weight': [3, 5, 9],\n",
       "                         'n_estimators': [50, 100]},\n",
       "             scoring='accuracy', verbose=1)"
      ]
     },
     "execution_count": 22,
     "metadata": {},
     "output_type": "execute_result"
    }
   ],
   "source": [
    "gsc.fit(tensor_rms, labels_train)"
   ]
  },
  {
   "cell_type": "code",
   "execution_count": 23,
   "metadata": {},
   "outputs": [
    {
     "data": {
      "text/plain": [
       "{'colsample_bytree': 0.5,\n",
       " 'gamma': 0.3,\n",
       " 'learning_rate': 0.2,\n",
       " 'max_depth': 3,\n",
       " 'min_child_weight': 3,\n",
       " 'n_estimators': 50}"
      ]
     },
     "execution_count": 23,
     "metadata": {},
     "output_type": "execute_result"
    }
   ],
   "source": [
    "gsc.best_params_"
   ]
  },
  {
   "cell_type": "markdown",
   "metadata": {},
   "source": [
    "# Cross validation metrics"
   ]
  },
  {
   "cell_type": "code",
   "execution_count": 26,
   "metadata": {},
   "outputs": [],
   "source": [
    "model = XGBClassifier(n_estimators=50, learning_rate=0.2, max_depth=3, min_child_weight=3, gamma=0.3, colsample_bytree=0.5)\n",
    "n_splits = 5\n",
    "kf = KFold(n_splits=n_splits, shuffle=True)\n",
    "\n",
    "scoring=('accuracy')\n",
    "cv_results = cross_validate(model, tensor_rms, labels_train, cv=kf, scoring=scoring, return_train_score=False)"
   ]
  },
  {
   "cell_type": "code",
   "execution_count": 27,
   "metadata": {},
   "outputs": [
    {
     "data": {
      "text/plain": [
       "0.3214814814814815"
      ]
     },
     "execution_count": 27,
     "metadata": {},
     "output_type": "execute_result"
    }
   ],
   "source": [
    "np.mean(cv_results['test_score'])"
   ]
  },
  {
   "cell_type": "code",
   "execution_count": 28,
   "metadata": {},
   "outputs": [
    {
     "data": {
      "text/plain": [
       "XGBClassifier(colsample_bytree=0.5, gamma=0.3, learning_rate=0.2,\n",
       "              min_child_weight=3, n_estimators=50, objective='multi:softprob')"
      ]
     },
     "execution_count": 28,
     "metadata": {},
     "output_type": "execute_result"
    }
   ],
   "source": [
    "model.fit(tensor_rms, labels_train)"
   ]
  },
  {
   "cell_type": "code",
   "execution_count": 36,
   "metadata": {},
   "outputs": [],
   "source": [
    "test_path = '/home/18rvb/ELEC872/competition/Competition/test'\n",
    "test_paths = []\n",
    "\n",
    "for path, directories, files in os.walk(test_path):\n",
    "    for file in files:\n",
    "        test_paths.append(os.path.join(path, file))"
   ]
  },
  {
   "cell_type": "code",
   "execution_count": 44,
   "metadata": {},
   "outputs": [],
   "source": [
    "num_list_test = []\n",
    "for i in test_paths:\n",
    "    temp_list = np.genfromtxt(i)\n",
    "    num_list_test.append(temp_list)"
   ]
  },
  {
   "cell_type": "code",
   "execution_count": 45,
   "metadata": {},
   "outputs": [],
   "source": [
    "test_rms = []\n",
    "\n",
    "for i in num_list_test:\n",
    "    temp_rms = []\n",
    "    for k in i:\n",
    "        temp_rms.append(np.sqrt(np.mean(k**2)))\n",
    "    test_rms.append(temp_rms)"
   ]
  },
  {
   "cell_type": "code",
   "execution_count": 47,
   "metadata": {},
   "outputs": [],
   "source": [
    "tensor_rms_test = torch.tensor(test_rms)"
   ]
  },
  {
   "cell_type": "code",
   "execution_count": 48,
   "metadata": {},
   "outputs": [
    {
     "data": {
      "text/plain": [
       "torch.Size([150, 250])"
      ]
     },
     "execution_count": 48,
     "metadata": {},
     "output_type": "execute_result"
    }
   ],
   "source": [
    "tensor_rms_test.shape"
   ]
  },
  {
   "cell_type": "code",
   "execution_count": 49,
   "metadata": {},
   "outputs": [],
   "source": [
    "predicted_probs = model.predict_proba(tensor_rms_test)"
   ]
  },
  {
   "cell_type": "code",
   "execution_count": 62,
   "metadata": {},
   "outputs": [],
   "source": [
    "predicted_results = []\n",
    "\n",
    "for val in predicted_probs:\n",
    "    predicted_results.append(np.argmax(val))"
   ]
  },
  {
   "cell_type": "code",
   "execution_count": 71,
   "metadata": {},
   "outputs": [],
   "source": [
    "import pickle as pkl\n",
    "\n",
    "with open('/home/18rvb/ELEC872/competition/Competition/output/outputs_xgboost_32.pkl', 'wb+') as t:\n",
    "    pkl.dump(predicted_results, t)\n",
    "\n",
    "# predicted_results.to_csv('/home/18rvb/ELEC872/competition/Competition/output/outputs_xgboost_32.csv')"
   ]
  },
  {
   "cell_type": "code",
   "execution_count": 72,
   "metadata": {},
   "outputs": [],
   "source": [
    "with open('/home/18rvb/ELEC872/competition/Competition/output/outputs_xgboost_32.pkl', 'rb') as tp:\n",
    "    read_file = pkl.load(tp)"
   ]
  },
  {
   "cell_type": "code",
   "execution_count": 70,
   "metadata": {},
   "outputs": [
    {
     "data": {
      "text/plain": [
       "[7,\n",
       " 10,\n",
       " 0,\n",
       " 10,\n",
       " 8,\n",
       " 14,\n",
       " 9,\n",
       " 11,\n",
       " 7,\n",
       " 9,\n",
       " 5,\n",
       " 2,\n",
       " 0,\n",
       " 5,\n",
       " 11,\n",
       " 1,\n",
       " 12,\n",
       " 12,\n",
       " 10,\n",
       " 1,\n",
       " 1,\n",
       " 9,\n",
       " 0,\n",
       " 8,\n",
       " 4,\n",
       " 5,\n",
       " 4,\n",
       " 3,\n",
       " 10,\n",
       " 2,\n",
       " 6,\n",
       " 0,\n",
       " 8,\n",
       " 0,\n",
       " 7,\n",
       " 2,\n",
       " 11,\n",
       " 2,\n",
       " 4,\n",
       " 2,\n",
       " 1,\n",
       " 0,\n",
       " 4,\n",
       " 9,\n",
       " 12,\n",
       " 9,\n",
       " 12,\n",
       " 0,\n",
       " 14,\n",
       " 5,\n",
       " 5,\n",
       " 2,\n",
       " 1,\n",
       " 1,\n",
       " 10,\n",
       " 5,\n",
       " 12,\n",
       " 3,\n",
       " 11,\n",
       " 3,\n",
       " 0,\n",
       " 14,\n",
       " 8,\n",
       " 0,\n",
       " 11,\n",
       " 7,\n",
       " 11,\n",
       " 11,\n",
       " 0,\n",
       " 2,\n",
       " 7,\n",
       " 4,\n",
       " 0,\n",
       " 1,\n",
       " 2,\n",
       " 0,\n",
       " 4,\n",
       " 9,\n",
       " 3,\n",
       " 8,\n",
       " 11,\n",
       " 11,\n",
       " 11,\n",
       " 11,\n",
       " 0,\n",
       " 5,\n",
       " 12,\n",
       " 14,\n",
       " 1,\n",
       " 14,\n",
       " 8,\n",
       " 0,\n",
       " 8,\n",
       " 8,\n",
       " 9,\n",
       " 0,\n",
       " 0,\n",
       " 7,\n",
       " 1,\n",
       " 13,\n",
       " 2,\n",
       " 7,\n",
       " 2,\n",
       " 14,\n",
       " 0,\n",
       " 3,\n",
       " 11,\n",
       " 5,\n",
       " 12,\n",
       " 9,\n",
       " 2,\n",
       " 7,\n",
       " 7,\n",
       " 13,\n",
       " 9,\n",
       " 7,\n",
       " 9,\n",
       " 0,\n",
       " 0,\n",
       " 2,\n",
       " 13,\n",
       " 11,\n",
       " 10,\n",
       " 9,\n",
       " 1,\n",
       " 14,\n",
       " 8,\n",
       " 7,\n",
       " 6,\n",
       " 0,\n",
       " 12,\n",
       " 8,\n",
       " 8,\n",
       " 14,\n",
       " 14,\n",
       " 9,\n",
       " 12,\n",
       " 0,\n",
       " 13,\n",
       " 4,\n",
       " 2,\n",
       " 7,\n",
       " 3,\n",
       " 8,\n",
       " 4,\n",
       " 12,\n",
       " 4,\n",
       " 7,\n",
       " 14,\n",
       " 10]"
      ]
     },
     "execution_count": 70,
     "metadata": {},
     "output_type": "execute_result"
    }
   ],
   "source": [
    "read_file"
   ]
  },
  {
   "cell_type": "markdown",
   "metadata": {},
   "source": [
    "# LSTM"
   ]
  },
  {
   "cell_type": "markdown",
   "metadata": {},
   "source": [
    "## Split data into train-test for hyperparam validation"
   ]
  },
  {
   "cell_type": "code",
   "execution_count": 280,
   "metadata": {},
   "outputs": [
    {
     "data": {
      "text/plain": [
       "torch.Size([1350, 250])"
      ]
     },
     "execution_count": 280,
     "metadata": {},
     "output_type": "execute_result"
    }
   ],
   "source": [
    "tensor_rms.shape"
   ]
  },
  {
   "cell_type": "code",
   "execution_count": 281,
   "metadata": {},
   "outputs": [
    {
     "data": {
      "text/plain": [
       "torch.Size([1350, 6, 250])"
      ]
     },
     "execution_count": 281,
     "metadata": {},
     "output_type": "execute_result"
    }
   ],
   "source": [
    "all_features.shape"
   ]
  },
  {
   "cell_type": "code",
   "execution_count": 282,
   "metadata": {},
   "outputs": [],
   "source": [
    "from sklearn.model_selection import train_test_split\n",
    "\n",
    "X_train, X_test, y_train, y_test = train_test_split(all_features, labels_train, test_size=0.20, random_state=42)"
   ]
  },
  {
   "cell_type": "code",
   "execution_count": 283,
   "metadata": {},
   "outputs": [
    {
     "data": {
      "text/plain": [
       "torch.Size([270, 6, 250])"
      ]
     },
     "execution_count": 283,
     "metadata": {},
     "output_type": "execute_result"
    }
   ],
   "source": [
    "X_test.shape"
   ]
  },
  {
   "cell_type": "code",
   "execution_count": 284,
   "metadata": {},
   "outputs": [],
   "source": [
    "from torch.utils.data import TensorDataset, DataLoader\n",
    "from multiprocessing import cpu_count"
   ]
  },
  {
   "cell_type": "code",
   "execution_count": 314,
   "metadata": {},
   "outputs": [],
   "source": [
    "train_ds = TensorDataset(X_train, y_train)\n",
    "valid_ds = TensorDataset(X_test, y_test)\n",
    "test_ds = torch.tensor(num_list_test)"
   ]
  },
  {
   "cell_type": "code",
   "execution_count": 304,
   "metadata": {},
   "outputs": [],
   "source": [
    "def create_loaders(train_ds, valid_ds, bs=16, jobs=0):\n",
    "    train_dl = DataLoader(train_ds, bs, shuffle=True, num_workers=jobs)\n",
    "    valid_dl = DataLoader(valid_ds, bs, shuffle=False, num_workers=jobs)\n",
    "    return train_dl, valid_dl\n",
    "\n",
    "def accuracy(output, target):\n",
    "    return (output.argmax(dim=1) == target).float().mean().item()"
   ]
  },
  {
   "cell_type": "code",
   "execution_count": 305,
   "metadata": {},
   "outputs": [],
   "source": [
    "trn_dl, val_dl = create_loaders(train_ds, valid_ds, bs=64, jobs=cpu_count())"
   ]
  },
  {
   "cell_type": "code",
   "execution_count": 307,
   "metadata": {},
   "outputs": [],
   "source": [
    "device = torch.device(\"cuda:0\" if torch.cuda.is_available() else \"cpu\")"
   ]
  },
  {
   "cell_type": "code",
   "execution_count": 289,
   "metadata": {},
   "outputs": [],
   "source": [
    "class LSTMClassifier(nn.Module):\n",
    "    \"\"\"Very simple implementation of LSTM-based time-series classifier.\"\"\"\n",
    "    \n",
    "    def __init__(self, input_dim, hidden_dim, layer_dim, output_dim):\n",
    "        super().__init__()\n",
    "        self.hidden_dim = hidden_dim\n",
    "        self.layer_dim = layer_dim\n",
    "        self.rnn = nn.LSTM(input_dim, hidden_dim, layer_dim, batch_first=True)\n",
    "        self.fc = nn.Linear(hidden_dim, output_dim)\n",
    "        self.batch_size = None\n",
    "        self.hidden = None\n",
    "    \n",
    "    def forward(self, x):\n",
    "        x = x.to(device).float()\n",
    "        h0, c0 = self.init_hidden(x)\n",
    "        out, (hn, cn) = self.rnn(x, (h0, c0))\n",
    "        out = self.fc(out[:, -1, :])\n",
    "        return out\n",
    "    \n",
    "    def init_hidden(self, x):\n",
    "        h0 = torch.zeros(self.layer_dim, x.size(0), self.hidden_dim)\n",
    "        c0 = torch.zeros(self.layer_dim, x.size(0), self.hidden_dim)\n",
    "        return [t.cuda() for t in (h0, c0)]"
   ]
  },
  {
   "cell_type": "code",
   "execution_count": 290,
   "metadata": {},
   "outputs": [],
   "source": [
    "model_test = LSTMClassifier(250, 300, 2, 15).to(device)\n",
    "\n",
    "for signal, lbl in trn_dl:\n",
    "    model_test(signal)\n",
    "    break"
   ]
  },
  {
   "cell_type": "code",
   "execution_count": 291,
   "metadata": {},
   "outputs": [],
   "source": [
    "from torch.optim.lr_scheduler import _LRScheduler\n",
    "\n",
    "class CyclicLR(_LRScheduler):\n",
    "    \n",
    "    def __init__(self, optimizer, schedule, last_epoch=-1):\n",
    "        assert callable(schedule)\n",
    "        self.schedule = schedule\n",
    "        super().__init__(optimizer, last_epoch)\n",
    "\n",
    "    def get_lr(self):\n",
    "        return [self.schedule(self.last_epoch, lr) for lr in self.base_lrs]"
   ]
  },
  {
   "cell_type": "code",
   "execution_count": 292,
   "metadata": {},
   "outputs": [],
   "source": [
    "def cosine(t_max, eta_min=0):\n",
    "    \n",
    "    def scheduler(epoch, base_lr):\n",
    "        t = epoch % t_max\n",
    "        return eta_min + (base_lr - eta_min)*(1 + np.cos(np.pi*t/t_max))/2\n",
    "    \n",
    "    return scheduler"
   ]
  },
  {
   "cell_type": "code",
   "execution_count": 293,
   "metadata": {},
   "outputs": [],
   "source": [
    "input_dim = 250  \n",
    "hidden_dim = 300\n",
    "layer_dim = 2\n",
    "output_dim = 15\n",
    "seq_dim = 250\n",
    "\n",
    "lr = 0.0001\n",
    "n_epochs = 200\n",
    "iterations_per_epoch = len(X_train)\n",
    "best_acc = 0\n",
    "patience, trials = 100, 0\n",
    "\n",
    "model = LSTMClassifier(input_dim, hidden_dim, layer_dim, output_dim).to(device)\n",
    "criterion = nn.CrossEntropyLoss()\n",
    "opt = torch.optim.RMSprop(model.parameters(), lr=lr)\n",
    "sched = CyclicLR(opt, cosine(t_max=iterations_per_epoch * 2, eta_min=lr/100))"
   ]
  },
  {
   "cell_type": "code",
   "execution_count": 294,
   "metadata": {},
   "outputs": [
    {
     "name": "stdout",
     "output_type": "stream",
     "text": [
      "Start model training\n"
     ]
    },
    {
     "name": "stderr",
     "output_type": "stream",
     "text": [
      "/home/18rvb/anaconda3/envs/ptorch/lib/python3.7/site-packages/torch/optim/lr_scheduler.py:136: UserWarning: Detected call of `lr_scheduler.step()` before `optimizer.step()`. In PyTorch 1.1.0 and later, you should call them in the opposite order: `optimizer.step()` before `lr_scheduler.step()`.  Failure to do this will result in PyTorch skipping the first value of the learning rate schedule. See more details at https://pytorch.org/docs/stable/optim.html#how-to-adjust-learning-rate\n",
      "  \"https://pytorch.org/docs/stable/optim.html#how-to-adjust-learning-rate\", UserWarning)\n"
     ]
    },
    {
     "name": "stdout",
     "output_type": "stream",
     "text": [
      "Epoch 1 best model saved with accuracy: 31.11%\n",
      "Epoch 2 best model saved with accuracy: 38.89%\n",
      "Epoch 3 best model saved with accuracy: 44.44%\n",
      "Epoch 4 best model saved with accuracy: 47.04%\n",
      "Epoch:   5. Loss: 1.6940. Acc.: 46.30%\n",
      "Epoch 8 best model saved with accuracy: 48.89%\n",
      "Epoch 9 best model saved with accuracy: 49.63%\n",
      "Epoch:  10. Loss: 1.4358. Acc.: 42.59%\n",
      "Epoch 14 best model saved with accuracy: 51.11%\n",
      "Epoch:  15. Loss: 1.1844. Acc.: 45.19%\n",
      "Epoch:  20. Loss: 0.9840. Acc.: 47.41%\n",
      "Epoch 21 best model saved with accuracy: 51.48%\n",
      "Epoch:  25. Loss: 0.8313. Acc.: 52.59%\n",
      "Epoch 25 best model saved with accuracy: 52.59%\n",
      "Epoch 28 best model saved with accuracy: 52.96%\n",
      "Epoch:  30. Loss: 0.7771. Acc.: 52.96%\n",
      "Epoch:  35. Loss: 0.9081. Acc.: 48.52%\n",
      "Epoch 37 best model saved with accuracy: 53.33%\n",
      "Epoch:  40. Loss: 0.7694. Acc.: 51.85%\n",
      "Epoch 41 best model saved with accuracy: 54.07%\n",
      "Epoch:  45. Loss: 0.8644. Acc.: 47.78%\n",
      "Epoch:  50. Loss: 0.7770. Acc.: 52.96%\n",
      "Epoch 54 best model saved with accuracy: 55.19%\n",
      "Epoch:  55. Loss: 0.6992. Acc.: 54.81%\n",
      "Epoch:  60. Loss: 0.6421. Acc.: 48.15%\n",
      "Epoch 62 best model saved with accuracy: 55.56%\n",
      "Epoch:  65. Loss: 0.7017. Acc.: 54.44%\n",
      "Epoch:  70. Loss: 0.6306. Acc.: 54.81%\n",
      "Epoch 73 best model saved with accuracy: 57.04%\n",
      "Epoch:  75. Loss: 0.5822. Acc.: 55.56%\n",
      "Epoch:  80. Loss: 0.4954. Acc.: 55.56%\n",
      "Epoch:  85. Loss: 0.5416. Acc.: 55.19%\n",
      "Epoch:  90. Loss: 0.4320. Acc.: 56.30%\n",
      "Epoch:  95. Loss: 0.3365. Acc.: 54.44%\n",
      "Epoch: 100. Loss: 0.3593. Acc.: 55.19%\n",
      "Epoch: 105. Loss: 0.3641. Acc.: 54.81%\n",
      "Epoch: 110. Loss: 0.3373. Acc.: 53.33%\n",
      "Epoch: 115. Loss: 0.4012. Acc.: 53.70%\n",
      "Epoch: 120. Loss: 0.2586. Acc.: 52.59%\n",
      "Epoch: 125. Loss: 0.3587. Acc.: 53.33%\n",
      "Epoch: 130. Loss: 0.5482. Acc.: 45.93%\n",
      "Epoch: 135. Loss: 0.4650. Acc.: 52.22%\n",
      "Epoch: 140. Loss: 0.4028. Acc.: 51.85%\n",
      "Epoch: 145. Loss: 0.2987. Acc.: 52.22%\n",
      "Epoch: 150. Loss: 0.4172. Acc.: 54.07%\n",
      "Epoch: 155. Loss: 0.3013. Acc.: 53.70%\n",
      "Epoch: 160. Loss: 0.3818. Acc.: 48.89%\n",
      "Epoch: 165. Loss: 0.3243. Acc.: 52.22%\n",
      "Epoch: 170. Loss: 0.1843. Acc.: 51.85%\n",
      "Early stopping on epoch 173\n"
     ]
    }
   ],
   "source": [
    "print('Start model training')\n",
    "\n",
    "for epoch in range(1, n_epochs + 1):\n",
    "    \n",
    "    for i, (x_batch, y_batch) in enumerate(trn_dl):\n",
    "        model.train()\n",
    "        x_batch = x_batch.cuda()\n",
    "        y_batch = y_batch.cuda()\n",
    "        sched.step()\n",
    "        opt.zero_grad()\n",
    "        out = model(x_batch)\n",
    "        loss = criterion(out, y_batch)\n",
    "        loss.backward()\n",
    "        opt.step()\n",
    "    \n",
    "    model.eval()\n",
    "    correct, total = 0, 0\n",
    "    for x_val, y_val in val_dl:\n",
    "        x_val, y_val = [t.cuda() for t in (x_val, y_val)]\n",
    "        out = model(x_val)\n",
    "        preds = F.log_softmax(out, dim=1).argmax(dim=1)\n",
    "        total += y_val.size(0)\n",
    "        correct += (preds == y_val).sum().item()\n",
    "    \n",
    "    acc = correct / total\n",
    "\n",
    "    if epoch % 5 == 0:\n",
    "        print(f'Epoch: {epoch:3d}. Loss: {loss.item():.4f}. Acc.: {acc:2.2%}')\n",
    "\n",
    "    if acc > best_acc:\n",
    "        trials = 0\n",
    "        best_acc = acc\n",
    "        torch.save(model.state_dict(), 'best.pth')\n",
    "        print(f'Epoch {epoch} best model saved with accuracy: {best_acc:2.2%}')\n",
    "    else:\n",
    "        trials += 1\n",
    "        if trials >= patience:\n",
    "            print(f'Early stopping on epoch {epoch}')\n",
    "            break"
   ]
  },
  {
   "cell_type": "markdown",
   "metadata": {},
   "source": [
    "# Preprocess test features"
   ]
  },
  {
   "cell_type": "code",
   "execution_count": 327,
   "metadata": {},
   "outputs": [],
   "source": [
    "test_np = np.asarray(test_ds)"
   ]
  },
  {
   "cell_type": "code",
   "execution_count": 328,
   "metadata": {},
   "outputs": [],
   "source": [
    "test_meta = pd.DataFrame()"
   ]
  },
  {
   "cell_type": "code",
   "execution_count": 329,
   "metadata": {},
   "outputs": [],
   "source": [
    "means = []\n",
    "\n",
    "for i in test_np:\n",
    "    temp_means = []\n",
    "    for k in i:\n",
    "        temp_means.append(np.mean(k))\n",
    "    means.append(temp_means)\n",
    "    \n",
    "test_meta['means'] = means"
   ]
  },
  {
   "cell_type": "code",
   "execution_count": 330,
   "metadata": {},
   "outputs": [],
   "source": [
    "mins = []\n",
    "\n",
    "for i in test_np:\n",
    "    temp_mins = []\n",
    "    for k in i:\n",
    "        temp_mins.append(np.min(k))\n",
    "    mins.append(temp_mins)\n",
    "    \n",
    "test_meta['mins'] = mins"
   ]
  },
  {
   "cell_type": "code",
   "execution_count": 331,
   "metadata": {},
   "outputs": [],
   "source": [
    "maxes = []\n",
    "\n",
    "for i in test_np:\n",
    "    temp_max = []\n",
    "    for k in i:\n",
    "        temp_max.append(np.max(k))\n",
    "    maxes.append(temp_max)\n",
    "    \n",
    "test_meta['maxes'] = maxes"
   ]
  },
  {
   "cell_type": "code",
   "execution_count": 332,
   "metadata": {},
   "outputs": [],
   "source": [
    "median = []\n",
    "\n",
    "for i in test_np:\n",
    "    temp_median = []\n",
    "    for k in i:\n",
    "        temp_median.append(np.median(k))\n",
    "    median.append(temp_median)\n",
    "    \n",
    "test_meta['median'] = median"
   ]
  },
  {
   "cell_type": "code",
   "execution_count": 333,
   "metadata": {},
   "outputs": [],
   "source": [
    "std = []\n",
    "\n",
    "for i in test_np:\n",
    "    temp_std = []\n",
    "    for k in i:\n",
    "        temp_std.append(np.std(k))\n",
    "    std.append(temp_std)\n",
    "    \n",
    "test_meta['std'] = std"
   ]
  },
  {
   "cell_type": "code",
   "execution_count": 334,
   "metadata": {},
   "outputs": [],
   "source": [
    "rms = []\n",
    "\n",
    "for i in test_np:\n",
    "    temp_rms = []\n",
    "    for k in i:\n",
    "        temp_rms.append(np.sqrt(np.mean(k**2)))\n",
    "    rms.append(temp_rms)\n",
    "    \n",
    "test_meta['rms'] = rms"
   ]
  },
  {
   "cell_type": "code",
   "execution_count": 344,
   "metadata": {},
   "outputs": [],
   "source": [
    "tensor_rms_test = torch.tensor(test_meta['rms'].tolist())\n",
    "tensor_mean_test = torch.tensor(test_meta['means'].tolist())\n",
    "tensor_median_test = torch.tensor(test_meta['median'].tolist())\n",
    "tensor_std_test = torch.tensor(test_meta['std'].tolist())\n",
    "tensor_min_test = torch.tensor(test_meta['mins'].tolist())\n",
    "tensor_max_test = torch.tensor(test_meta['maxes'].tolist())"
   ]
  },
  {
   "cell_type": "code",
   "execution_count": 345,
   "metadata": {},
   "outputs": [],
   "source": [
    "all_test_features = torch.stack([tensor_rms_test, tensor_mean_test, tensor_median_test, tensor_std_test, tensor_min_test, tensor_max_test]).permute(1, 0, 2)"
   ]
  },
  {
   "cell_type": "code",
   "execution_count": 346,
   "metadata": {},
   "outputs": [
    {
     "data": {
      "text/plain": [
       "torch.Size([150, 6, 250])"
      ]
     },
     "execution_count": 346,
     "metadata": {},
     "output_type": "execute_result"
    }
   ],
   "source": [
    "all_test_features.shape"
   ]
  },
  {
   "cell_type": "code",
   "execution_count": 370,
   "metadata": {
    "scrolled": false
   },
   "outputs": [],
   "source": [
    "model.eval()\n",
    "\n",
    "preds = []\n",
    "for x_tst in all_test_features:\n",
    "    out = model(x_tst.unsqueeze(0)).to(device)\n",
    "    preds.append(F.log_softmax(out, dim=1).argmax(dim=1))"
   ]
  },
  {
   "cell_type": "code",
   "execution_count": 371,
   "metadata": {},
   "outputs": [
    {
     "name": "stdout",
     "output_type": "stream",
     "text": [
      "150\n"
     ]
    }
   ],
   "source": [
    "print(len(preds))"
   ]
  },
  {
   "cell_type": "code",
   "execution_count": 364,
   "metadata": {
    "scrolled": true
   },
   "outputs": [],
   "source": [
    "list_preds = []\n",
    "for i in preds:\n",
    "    for j in i:\n",
    "        list_preds.append(j)"
   ]
  },
  {
   "cell_type": "code",
   "execution_count": 372,
   "metadata": {},
   "outputs": [
    {
     "data": {
      "text/plain": [
       "[tensor([9], device='cuda:0'),\n",
       " tensor([10], device='cuda:0'),\n",
       " tensor([3], device='cuda:0'),\n",
       " tensor([10], device='cuda:0'),\n",
       " tensor([8], device='cuda:0'),\n",
       " tensor([4], device='cuda:0'),\n",
       " tensor([12], device='cuda:0'),\n",
       " tensor([4], device='cuda:0'),\n",
       " tensor([7], device='cuda:0'),\n",
       " tensor([9], device='cuda:0'),\n",
       " tensor([5], device='cuda:0'),\n",
       " tensor([14], device='cuda:0'),\n",
       " tensor([3], device='cuda:0'),\n",
       " tensor([2], device='cuda:0'),\n",
       " tensor([11], device='cuda:0'),\n",
       " tensor([14], device='cuda:0'),\n",
       " tensor([10], device='cuda:0'),\n",
       " tensor([12], device='cuda:0'),\n",
       " tensor([10], device='cuda:0'),\n",
       " tensor([5], device='cuda:0'),\n",
       " tensor([1], device='cuda:0'),\n",
       " tensor([12], device='cuda:0'),\n",
       " tensor([3], device='cuda:0'),\n",
       " tensor([10], device='cuda:0'),\n",
       " tensor([6], device='cuda:0'),\n",
       " tensor([2], device='cuda:0'),\n",
       " tensor([11], device='cuda:0'),\n",
       " tensor([3], device='cuda:0'),\n",
       " tensor([3], device='cuda:0'),\n",
       " tensor([2], device='cuda:0'),\n",
       " tensor([2], device='cuda:0'),\n",
       " tensor([10], device='cuda:0'),\n",
       " tensor([8], device='cuda:0'),\n",
       " tensor([10], device='cuda:0'),\n",
       " tensor([10], device='cuda:0'),\n",
       " tensor([6], device='cuda:0'),\n",
       " tensor([13], device='cuda:0'),\n",
       " tensor([2], device='cuda:0'),\n",
       " tensor([11], device='cuda:0'),\n",
       " tensor([2], device='cuda:0'),\n",
       " tensor([1], device='cuda:0'),\n",
       " tensor([0], device='cuda:0'),\n",
       " tensor([6], device='cuda:0'),\n",
       " tensor([10], device='cuda:0'),\n",
       " tensor([9], device='cuda:0'),\n",
       " tensor([9], device='cuda:0'),\n",
       " tensor([0], device='cuda:0'),\n",
       " tensor([10], device='cuda:0'),\n",
       " tensor([14], device='cuda:0'),\n",
       " tensor([4], device='cuda:0'),\n",
       " tensor([5], device='cuda:0'),\n",
       " tensor([2], device='cuda:0'),\n",
       " tensor([1], device='cuda:0'),\n",
       " tensor([11], device='cuda:0'),\n",
       " tensor([4], device='cuda:0'),\n",
       " tensor([6], device='cuda:0'),\n",
       " tensor([0], device='cuda:0'),\n",
       " tensor([7], device='cuda:0'),\n",
       " tensor([14], device='cuda:0'),\n",
       " tensor([10], device='cuda:0'),\n",
       " tensor([14], device='cuda:0'),\n",
       " tensor([10], device='cuda:0'),\n",
       " tensor([3], device='cuda:0'),\n",
       " tensor([12], device='cuda:0'),\n",
       " tensor([14], device='cuda:0'),\n",
       " tensor([7], device='cuda:0'),\n",
       " tensor([14], device='cuda:0'),\n",
       " tensor([5], device='cuda:0'),\n",
       " tensor([0], device='cuda:0'),\n",
       " tensor([13], device='cuda:0'),\n",
       " tensor([12], device='cuda:0'),\n",
       " tensor([4], device='cuda:0'),\n",
       " tensor([10], device='cuda:0'),\n",
       " tensor([1], device='cuda:0'),\n",
       " tensor([2], device='cuda:0'),\n",
       " tensor([0], device='cuda:0'),\n",
       " tensor([14], device='cuda:0'),\n",
       " tensor([10], device='cuda:0'),\n",
       " tensor([6], device='cuda:0'),\n",
       " tensor([3], device='cuda:0'),\n",
       " tensor([4], device='cuda:0'),\n",
       " tensor([4], device='cuda:0'),\n",
       " tensor([5], device='cuda:0'),\n",
       " tensor([5], device='cuda:0'),\n",
       " tensor([6], device='cuda:0'),\n",
       " tensor([14], device='cuda:0'),\n",
       " tensor([14], device='cuda:0'),\n",
       " tensor([4], device='cuda:0'),\n",
       " tensor([14], device='cuda:0'),\n",
       " tensor([11], device='cuda:0'),\n",
       " tensor([8], device='cuda:0'),\n",
       " tensor([0], device='cuda:0'),\n",
       " tensor([6], device='cuda:0'),\n",
       " tensor([4], device='cuda:0'),\n",
       " tensor([7], device='cuda:0'),\n",
       " tensor([8], device='cuda:0'),\n",
       " tensor([3], device='cuda:0'),\n",
       " tensor([12], device='cuda:0'),\n",
       " tensor([1], device='cuda:0'),\n",
       " tensor([8], device='cuda:0'),\n",
       " tensor([2], device='cuda:0'),\n",
       " tensor([7], device='cuda:0'),\n",
       " tensor([2], device='cuda:0'),\n",
       " tensor([14], device='cuda:0'),\n",
       " tensor([8], device='cuda:0'),\n",
       " tensor([10], device='cuda:0'),\n",
       " tensor([5], device='cuda:0'),\n",
       " tensor([11], device='cuda:0'),\n",
       " tensor([14], device='cuda:0'),\n",
       " tensor([7], device='cuda:0'),\n",
       " tensor([4], device='cuda:0'),\n",
       " tensor([13], device='cuda:0'),\n",
       " tensor([10], device='cuda:0'),\n",
       " tensor([7], device='cuda:0'),\n",
       " tensor([9], device='cuda:0'),\n",
       " tensor([7], device='cuda:0'),\n",
       " tensor([12], device='cuda:0'),\n",
       " tensor([10], device='cuda:0'),\n",
       " tensor([0], device='cuda:0'),\n",
       " tensor([2], device='cuda:0'),\n",
       " tensor([3], device='cuda:0'),\n",
       " tensor([11], device='cuda:0'),\n",
       " tensor([3], device='cuda:0'),\n",
       " tensor([9], device='cuda:0'),\n",
       " tensor([13], device='cuda:0'),\n",
       " tensor([14], device='cuda:0'),\n",
       " tensor([13], device='cuda:0'),\n",
       " tensor([3], device='cuda:0'),\n",
       " tensor([13], device='cuda:0'),\n",
       " tensor([10], device='cuda:0'),\n",
       " tensor([9], device='cuda:0'),\n",
       " tensor([5], device='cuda:0'),\n",
       " tensor([10], device='cuda:0'),\n",
       " tensor([14], device='cuda:0'),\n",
       " tensor([6], device='cuda:0'),\n",
       " tensor([10], device='cuda:0'),\n",
       " tensor([12], device='cuda:0'),\n",
       " tensor([10], device='cuda:0'),\n",
       " tensor([14], device='cuda:0'),\n",
       " tensor([4], device='cuda:0'),\n",
       " tensor([2], device='cuda:0'),\n",
       " tensor([7], device='cuda:0'),\n",
       " tensor([10], device='cuda:0'),\n",
       " tensor([8], device='cuda:0'),\n",
       " tensor([6], device='cuda:0'),\n",
       " tensor([12], device='cuda:0'),\n",
       " tensor([4], device='cuda:0'),\n",
       " tensor([12], device='cuda:0'),\n",
       " tensor([14], device='cuda:0'),\n",
       " tensor([10], device='cuda:0')]"
      ]
     },
     "execution_count": 372,
     "metadata": {},
     "output_type": "execute_result"
    }
   ],
   "source": [
    "preds"
   ]
  },
  {
   "cell_type": "code",
   "execution_count": 373,
   "metadata": {},
   "outputs": [
    {
     "data": {
      "text/plain": [
       "[9,\n",
       " 10,\n",
       " 3,\n",
       " 10,\n",
       " 8,\n",
       " 4,\n",
       " 12,\n",
       " 4,\n",
       " 7,\n",
       " 9,\n",
       " 5,\n",
       " 14,\n",
       " 3,\n",
       " 2,\n",
       " 11,\n",
       " 14,\n",
       " 10,\n",
       " 12,\n",
       " 10,\n",
       " 5,\n",
       " 1,\n",
       " 12,\n",
       " 3,\n",
       " 10,\n",
       " 6,\n",
       " 2,\n",
       " 11,\n",
       " 3,\n",
       " 3,\n",
       " 2,\n",
       " 2,\n",
       " 10,\n",
       " 8,\n",
       " 10,\n",
       " 10,\n",
       " 6,\n",
       " 13,\n",
       " 2,\n",
       " 11,\n",
       " 2,\n",
       " 1,\n",
       " 0,\n",
       " 6,\n",
       " 10,\n",
       " 9,\n",
       " 9,\n",
       " 0,\n",
       " 10,\n",
       " 14,\n",
       " 4,\n",
       " 5,\n",
       " 2,\n",
       " 1,\n",
       " 11,\n",
       " 4,\n",
       " 6,\n",
       " 0,\n",
       " 7,\n",
       " 14,\n",
       " 10,\n",
       " 14,\n",
       " 10,\n",
       " 3,\n",
       " 12,\n",
       " 14,\n",
       " 7,\n",
       " 14,\n",
       " 5,\n",
       " 0,\n",
       " 13,\n",
       " 12,\n",
       " 4,\n",
       " 10,\n",
       " 1,\n",
       " 2,\n",
       " 0,\n",
       " 14,\n",
       " 10,\n",
       " 6,\n",
       " 3,\n",
       " 4,\n",
       " 4,\n",
       " 5,\n",
       " 5,\n",
       " 6,\n",
       " 14,\n",
       " 14,\n",
       " 4,\n",
       " 14,\n",
       " 11,\n",
       " 8,\n",
       " 0,\n",
       " 6,\n",
       " 4,\n",
       " 7,\n",
       " 8,\n",
       " 3,\n",
       " 12,\n",
       " 1,\n",
       " 8,\n",
       " 2,\n",
       " 7,\n",
       " 2,\n",
       " 14,\n",
       " 8,\n",
       " 10,\n",
       " 5,\n",
       " 11,\n",
       " 14,\n",
       " 7,\n",
       " 4,\n",
       " 13,\n",
       " 10,\n",
       " 7,\n",
       " 9,\n",
       " 7,\n",
       " 12,\n",
       " 10,\n",
       " 0,\n",
       " 2,\n",
       " 3,\n",
       " 11,\n",
       " 3,\n",
       " 9,\n",
       " 13,\n",
       " 14,\n",
       " 13,\n",
       " 3,\n",
       " 13,\n",
       " 10,\n",
       " 9,\n",
       " 5,\n",
       " 10,\n",
       " 14,\n",
       " 6,\n",
       " 10,\n",
       " 12,\n",
       " 10,\n",
       " 14,\n",
       " 4,\n",
       " 2,\n",
       " 7,\n",
       " 10,\n",
       " 8,\n",
       " 6,\n",
       " 12,\n",
       " 4,\n",
       " 12,\n",
       " 14,\n",
       " 10]"
      ]
     },
     "execution_count": 373,
     "metadata": {},
     "output_type": "execute_result"
    }
   ],
   "source": [
    "list_preds"
   ]
  },
  {
   "cell_type": "code",
   "execution_count": 374,
   "metadata": {},
   "outputs": [],
   "source": [
    "with open('/home/18rvb/ELEC872/competition/Competition/output/outputs_lstm_57.pkl', 'wb+') as t:\n",
    "    pkl.dump(list_preds, t)"
   ]
  },
  {
   "cell_type": "code",
   "execution_count": 375,
   "metadata": {},
   "outputs": [
    {
     "name": "stdout",
     "output_type": "stream",
     "text": [
      "52\n"
     ]
    }
   ],
   "source": [
    "counter = 0\n",
    "for i, k in zip(list_preds, read_file):\n",
    "    if i == k:\n",
    "        counter += 1\n",
    "print(counter)"
   ]
  },
  {
   "cell_type": "code",
   "execution_count": null,
   "metadata": {},
   "outputs": [],
   "source": []
  }
 ],
 "metadata": {
  "kernelspec": {
   "display_name": "ptorch",
   "language": "python",
   "name": "myenv"
  },
  "language_info": {
   "codemirror_mode": {
    "name": "ipython",
    "version": 3
   },
   "file_extension": ".py",
   "mimetype": "text/x-python",
   "name": "python",
   "nbconvert_exporter": "python",
   "pygments_lexer": "ipython3",
   "version": "3.7.5"
  }
 },
 "nbformat": 4,
 "nbformat_minor": 4
}
