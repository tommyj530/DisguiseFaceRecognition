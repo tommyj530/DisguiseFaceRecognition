{
 "cells": [
  {
   "cell_type": "markdown",
   "metadata": {},
   "source": [
    "# Install packages and set path"
   ]
  },
  {
   "cell_type": "code",
   "execution_count": 1,
   "metadata": {},
   "outputs": [],
   "source": [
    "# Libraries\n",
    "\n",
    "import matplotlib.pyplot as plt\n",
    "import pandas as pd\n",
    "import torch\n",
    "\n",
    "# Preliminaries\n",
    "\n",
    "from torchtext.data import Field, TabularDataset, BucketIterator\n",
    "import torch.nn.functional as F\n",
    "from sklearn.model_selection import train_test_split\n",
    "\n",
    "# Training\n",
    "\n",
    "import torch.optim as optim\n",
    "\n",
    "# Evaluation\n",
    "\n",
    "from sklearn.metrics import accuracy_score, classification_report, confusion_matrix\n",
    "import seaborn as sns"
   ]
  },
  {
   "cell_type": "code",
   "execution_count": 2,
   "metadata": {},
   "outputs": [],
   "source": [
    "import os\n",
    "import glob\n",
    "import pandas as pd\n",
    "import numpy as np\n",
    "from scipy import signal\n",
    "from sklearn.model_selection import GridSearchCV\n",
    "from xgboost import XGBClassifier\n",
    "from sklearn.model_selection import KFold, cross_validate\n",
    "import torch\n",
    "from torch import nn\n",
    "\n",
    "path = \"/home/18rvb/ELEC872/competition/Competition/\""
   ]
  },
  {
   "cell_type": "code",
   "execution_count": 3,
   "metadata": {},
   "outputs": [],
   "source": [
    "# train_meta contains filenames of training data and corresponding labels\n",
    "\n",
    "train_meta = pd.read_csv(path + '/train_meta.txt', delimiter = ' ', header=None, names=['filename', 'labels'])"
   ]
  },
  {
   "cell_type": "code",
   "execution_count": 4,
   "metadata": {},
   "outputs": [],
   "source": [
    "train_meta['labels'] = train_meta['labels'].str.replace('[','')\n",
    "train_meta['labels'] = train_meta['labels'].str.replace(']','')"
   ]
  },
  {
   "cell_type": "code",
   "execution_count": 5,
   "metadata": {},
   "outputs": [],
   "source": [
    "train_meta['labels'] = train_meta.labels.apply(pd.to_numeric, errors='coerce')"
   ]
  },
  {
   "cell_type": "code",
   "execution_count": 6,
   "metadata": {},
   "outputs": [],
   "source": [
    "train_meta['labels'] = pd.to_numeric(train_meta.labels, errors='coerce')"
   ]
  },
  {
   "cell_type": "code",
   "execution_count": 7,
   "metadata": {},
   "outputs": [],
   "source": [
    "# check if balanced dataset\n",
    "\n",
    "# train_meta.labels.value_counts()"
   ]
  },
  {
   "cell_type": "code",
   "execution_count": 8,
   "metadata": {},
   "outputs": [],
   "source": [
    "num_list = []\n",
    "for i in train_meta['filename']:\n",
    "    temp_list = np.genfromtxt(path + i)\n",
    "    num_list.append(temp_list)"
   ]
  },
  {
   "cell_type": "code",
   "execution_count": 9,
   "metadata": {},
   "outputs": [],
   "source": [
    "train_meta['features'] = num_list"
   ]
  },
  {
   "cell_type": "code",
   "execution_count": 10,
   "metadata": {},
   "outputs": [],
   "source": [
    "from sklearn.preprocessing import minmax_scale"
   ]
  },
  {
   "cell_type": "code",
   "execution_count": 11,
   "metadata": {},
   "outputs": [],
   "source": [
    "scaled_values = []\n",
    "for val in train_meta.features:\n",
    "    scaled_values.append(minmax_scale(val))"
   ]
  },
  {
   "cell_type": "code",
   "execution_count": 12,
   "metadata": {},
   "outputs": [],
   "source": [
    "train_meta['scaled'] = scaled_values"
   ]
  },
  {
   "cell_type": "code",
   "execution_count": 13,
   "metadata": {},
   "outputs": [],
   "source": [
    "# Possible features: rms, mean, max, min, med, skew, kurt, std, iqr, max_energy_freq, mean_freq, median_freq, waveform_length, zero_crossing\n",
    "\n",
    "means = []\n",
    "\n",
    "for i in train_meta.features:\n",
    "    temp_means = []\n",
    "    for k in i:\n",
    "        temp_means.append(np.mean(k))\n",
    "    means.append(temp_means)\n",
    "    \n",
    "train_meta['means'] = means"
   ]
  },
  {
   "cell_type": "code",
   "execution_count": 14,
   "metadata": {},
   "outputs": [],
   "source": [
    "median = []\n",
    "\n",
    "for i in train_meta.features:\n",
    "    temp_median = []\n",
    "    for k in i:\n",
    "        temp_median.append(np.median(k))\n",
    "    median.append(temp_median)\n",
    "    \n",
    "train_meta['median'] = median"
   ]
  },
  {
   "cell_type": "code",
   "execution_count": 15,
   "metadata": {},
   "outputs": [],
   "source": [
    "std = []\n",
    "\n",
    "for i in train_meta.features:\n",
    "    temp_std = []\n",
    "    for k in i:\n",
    "        temp_std.append(np.std(k))\n",
    "    std.append(temp_std)\n",
    "    \n",
    "train_meta['std'] = std"
   ]
  },
  {
   "cell_type": "code",
   "execution_count": 16,
   "metadata": {},
   "outputs": [],
   "source": [
    "rms = []\n",
    "\n",
    "for i in train_meta.features:\n",
    "    temp_rms = []\n",
    "    for k in i:\n",
    "        temp_rms.append(np.sqrt(np.mean(k**2)))\n",
    "    rms.append(temp_rms)\n",
    "    \n",
    "train_meta['rms'] = rms"
   ]
  },
  {
   "cell_type": "code",
   "execution_count": 17,
   "metadata": {},
   "outputs": [
    {
     "data": {
      "text/html": [
       "<div>\n",
       "<style scoped>\n",
       "    .dataframe tbody tr th:only-of-type {\n",
       "        vertical-align: middle;\n",
       "    }\n",
       "\n",
       "    .dataframe tbody tr th {\n",
       "        vertical-align: top;\n",
       "    }\n",
       "\n",
       "    .dataframe thead th {\n",
       "        text-align: right;\n",
       "    }\n",
       "</style>\n",
       "<table border=\"1\" class=\"dataframe\">\n",
       "  <thead>\n",
       "    <tr style=\"text-align: right;\">\n",
       "      <th></th>\n",
       "      <th>filename</th>\n",
       "      <th>labels</th>\n",
       "      <th>features</th>\n",
       "      <th>scaled</th>\n",
       "      <th>means</th>\n",
       "      <th>median</th>\n",
       "      <th>std</th>\n",
       "      <th>rms</th>\n",
       "    </tr>\n",
       "  </thead>\n",
       "  <tbody>\n",
       "    <tr>\n",
       "      <th>0</th>\n",
       "      <td>/train/GiLImBvDWs.csv</td>\n",
       "      <td>5</td>\n",
       "      <td>[[-9.66962, -1.20624, -0.763766, -3.86514, 1.0...</td>\n",
       "      <td>[[0.566780549817258, 0.17854933381618454, 0.99...</td>\n",
       "      <td>[-3.211244555555555, -3.207782, -3.20647433333...</td>\n",
       "      <td>[-0.763766, -0.772598, -0.791928, -0.822014, -...</td>\n",
       "      <td>[5.896175141545032, 5.880682855680641, 5.86252...</td>\n",
       "      <td>[6.7139387020852945, 6.698678691251001, 6.6821...</td>\n",
       "    </tr>\n",
       "    <tr>\n",
       "      <th>1</th>\n",
       "      <td>/train/VQEyZLyBMp.csv</td>\n",
       "      <td>5</td>\n",
       "      <td>[[1.38216, -0.128894, -2.18949, -8.38661, 0.27...</td>\n",
       "      <td>[[0.2734943334482953, 0.39448590438490483, 0.0...</td>\n",
       "      <td>[1.1413136555555556, 1.149737022222222, 1.1586...</td>\n",
       "      <td>[0.275239, 0.25868, 0.245538, 0.23784, 0.22358...</td>\n",
       "      <td>[5.968897493169099, 5.9594234160174775, 5.9505...</td>\n",
       "      <td>[6.077033334145694, 6.069318138938332, 6.06231...</td>\n",
       "    </tr>\n",
       "    <tr>\n",
       "      <th>2</th>\n",
       "      <td>/train/AdgWYaoORE.csv</td>\n",
       "      <td>5</td>\n",
       "      <td>[[-8.91717, -0.687015, -1.48425, -2.78385, 0.5...</td>\n",
       "      <td>[[0.4745658403369415, 0.7434271672075722, 0.07...</td>\n",
       "      <td>[-2.937389777777778, -2.932377444444445, -2.92...</td>\n",
       "      <td>[-0.687015, -0.698856, -0.710341, -0.720778, -...</td>\n",
       "      <td>[5.111957573458653, 5.114029609246989, 5.11374...</td>\n",
       "      <td>[5.895792477643244, 5.895094258868253, 5.89177...</td>\n",
       "    </tr>\n",
       "    <tr>\n",
       "      <th>3</th>\n",
       "      <td>/train/lKhsadfBkL.csv</td>\n",
       "      <td>5</td>\n",
       "      <td>[[2.37224, -0.749576, -0.448302, -6.5086, 0.57...</td>\n",
       "      <td>[[0.29074703213231956, 0.18891469573442898, 0....</td>\n",
       "      <td>[0.238337888888889, 0.23560888888888887, 0.217...</td>\n",
       "      <td>[0.575349, 0.582675, 0.584939, 0.633389, 0.653...</td>\n",
       "      <td>[2.6670133308286776, 2.6983997285319745, 2.755...</td>\n",
       "      <td>[2.6776416967357473, 2.708666211157235, 2.7638...</td>\n",
       "    </tr>\n",
       "    <tr>\n",
       "      <th>4</th>\n",
       "      <td>/train/DKwGHgrHLG.csv</td>\n",
       "      <td>5</td>\n",
       "      <td>[[-8.81887, -0.0930824, -0.567127, 4.8778, -0....</td>\n",
       "      <td>[[0.6999064197978475, 0.2572575567216022, 0.86...</td>\n",
       "      <td>[-2.2249259333333335, -2.220695777777778, -2.2...</td>\n",
       "      <td>[-0.0930824, -0.101238, -0.109498, -0.117654, ...</td>\n",
       "      <td>[6.902218425274151, 6.892162149960471, 6.88511...</td>\n",
       "      <td>[7.251959362752469, 7.241090307321667, 7.23330...</td>\n",
       "    </tr>\n",
       "    <tr>\n",
       "      <th>...</th>\n",
       "      <td>...</td>\n",
       "      <td>...</td>\n",
       "      <td>...</td>\n",
       "      <td>...</td>\n",
       "      <td>...</td>\n",
       "      <td>...</td>\n",
       "      <td>...</td>\n",
       "      <td>...</td>\n",
       "    </tr>\n",
       "    <tr>\n",
       "      <th>1345</th>\n",
       "      <td>/train/KmaBQPpvuV.csv</td>\n",
       "      <td>0</td>\n",
       "      <td>[[5.1333, -1.03626, 4.28043, -20.2308, 2.03229...</td>\n",
       "      <td>[[0.8466238453420969, 0.0, 0.9999999999999999,...</td>\n",
       "      <td>[3.35037, 3.3527384444444444, 3.33179888888888...</td>\n",
       "      <td>[2.40088, 2.46057, 2.47082, 2.44175, 2.30596, ...</td>\n",
       "      <td>[12.028850382953847, 12.028936154911227, 12.02...</td>\n",
       "      <td>[12.4867217744446, 12.48744009378168, 12.48107...</td>\n",
       "    </tr>\n",
       "    <tr>\n",
       "      <th>1346</th>\n",
       "      <td>/train/THvCkkaZzj.csv</td>\n",
       "      <td>0</td>\n",
       "      <td>[[2.35843, 1.58066, 1.10583, -24.4188, 1.8761,...</td>\n",
       "      <td>[[0.17336729805209217, 0.5800102419545734, 0.4...</td>\n",
       "      <td>[1.3071604444444445, 1.2822006666666668, 1.219...</td>\n",
       "      <td>[1.58066, 1.5715, 1.58053, 1.57022, 1.53138, 1...</td>\n",
       "      <td>[11.372685329352743, 11.363242801631428, 11.34...</td>\n",
       "      <td>[11.447560440023688, 11.43535419295917, 11.411...</td>\n",
       "    </tr>\n",
       "    <tr>\n",
       "      <th>1347</th>\n",
       "      <td>/train/kqdPRRxErl.csv</td>\n",
       "      <td>0</td>\n",
       "      <td>[[-1.0766, -0.650192, 4.8696, -21.6198, -1.976...</td>\n",
       "      <td>[[0.36967408034961613, 0.2330570725537875, 0.8...</td>\n",
       "      <td>[0.6638921111111113, 0.7039058888888884, 0.796...</td>\n",
       "      <td>[-0.764809, -0.751949, -0.916217, -1.04173, -1...</td>\n",
       "      <td>[11.746792317965335, 11.828143714019394, 11.57...</td>\n",
       "      <td>[11.765537917860154, 11.849070310362286, 11.60...</td>\n",
       "    </tr>\n",
       "    <tr>\n",
       "      <th>1348</th>\n",
       "      <td>/train/XMCflmfeyQ.csv</td>\n",
       "      <td>0</td>\n",
       "      <td>[[0.664292, 1.28113, 2.70629, -19.0547, 0.5641...</td>\n",
       "      <td>[[0.6883984312153334, 0.5930026583475427, 0.57...</td>\n",
       "      <td>[1.5015572222222222, 1.4337159999999995, 1.370...</td>\n",
       "      <td>[1.28113, 1.01986, 0.719702, 0.67021, 0.769737...</td>\n",
       "      <td>[10.081449476160767, 10.202951480173034, 10.25...</td>\n",
       "      <td>[10.192659006951517, 10.303191761557246, 10.34...</td>\n",
       "    </tr>\n",
       "    <tr>\n",
       "      <th>1349</th>\n",
       "      <td>/train/SEHrRlwCzK.csv</td>\n",
       "      <td>0</td>\n",
       "      <td>[[-1.22504, -1.58918, 6.5169, -22.0025, -8.039...</td>\n",
       "      <td>[[0.37546115242577915, 0.2165169671029735, 0.7...</td>\n",
       "      <td>[-1.5751811111111111, -1.5631377777777775, -1....</td>\n",
       "      <td>[-1.58918, -1.70852, -1.90109, -2.08984, -2.22...</td>\n",
       "      <td>[11.700960267042138, 11.708565885568827, 11.77...</td>\n",
       "      <td>[11.806509505510085, 11.812447452116865, 11.87...</td>\n",
       "    </tr>\n",
       "  </tbody>\n",
       "</table>\n",
       "<p>1350 rows × 8 columns</p>\n",
       "</div>"
      ],
      "text/plain": [
       "                   filename  labels  \\\n",
       "0     /train/GiLImBvDWs.csv       5   \n",
       "1     /train/VQEyZLyBMp.csv       5   \n",
       "2     /train/AdgWYaoORE.csv       5   \n",
       "3     /train/lKhsadfBkL.csv       5   \n",
       "4     /train/DKwGHgrHLG.csv       5   \n",
       "...                     ...     ...   \n",
       "1345  /train/KmaBQPpvuV.csv       0   \n",
       "1346  /train/THvCkkaZzj.csv       0   \n",
       "1347  /train/kqdPRRxErl.csv       0   \n",
       "1348  /train/XMCflmfeyQ.csv       0   \n",
       "1349  /train/SEHrRlwCzK.csv       0   \n",
       "\n",
       "                                               features  \\\n",
       "0     [[-9.66962, -1.20624, -0.763766, -3.86514, 1.0...   \n",
       "1     [[1.38216, -0.128894, -2.18949, -8.38661, 0.27...   \n",
       "2     [[-8.91717, -0.687015, -1.48425, -2.78385, 0.5...   \n",
       "3     [[2.37224, -0.749576, -0.448302, -6.5086, 0.57...   \n",
       "4     [[-8.81887, -0.0930824, -0.567127, 4.8778, -0....   \n",
       "...                                                 ...   \n",
       "1345  [[5.1333, -1.03626, 4.28043, -20.2308, 2.03229...   \n",
       "1346  [[2.35843, 1.58066, 1.10583, -24.4188, 1.8761,...   \n",
       "1347  [[-1.0766, -0.650192, 4.8696, -21.6198, -1.976...   \n",
       "1348  [[0.664292, 1.28113, 2.70629, -19.0547, 0.5641...   \n",
       "1349  [[-1.22504, -1.58918, 6.5169, -22.0025, -8.039...   \n",
       "\n",
       "                                                 scaled  \\\n",
       "0     [[0.566780549817258, 0.17854933381618454, 0.99...   \n",
       "1     [[0.2734943334482953, 0.39448590438490483, 0.0...   \n",
       "2     [[0.4745658403369415, 0.7434271672075722, 0.07...   \n",
       "3     [[0.29074703213231956, 0.18891469573442898, 0....   \n",
       "4     [[0.6999064197978475, 0.2572575567216022, 0.86...   \n",
       "...                                                 ...   \n",
       "1345  [[0.8466238453420969, 0.0, 0.9999999999999999,...   \n",
       "1346  [[0.17336729805209217, 0.5800102419545734, 0.4...   \n",
       "1347  [[0.36967408034961613, 0.2330570725537875, 0.8...   \n",
       "1348  [[0.6883984312153334, 0.5930026583475427, 0.57...   \n",
       "1349  [[0.37546115242577915, 0.2165169671029735, 0.7...   \n",
       "\n",
       "                                                  means  \\\n",
       "0     [-3.211244555555555, -3.207782, -3.20647433333...   \n",
       "1     [1.1413136555555556, 1.149737022222222, 1.1586...   \n",
       "2     [-2.937389777777778, -2.932377444444445, -2.92...   \n",
       "3     [0.238337888888889, 0.23560888888888887, 0.217...   \n",
       "4     [-2.2249259333333335, -2.220695777777778, -2.2...   \n",
       "...                                                 ...   \n",
       "1345  [3.35037, 3.3527384444444444, 3.33179888888888...   \n",
       "1346  [1.3071604444444445, 1.2822006666666668, 1.219...   \n",
       "1347  [0.6638921111111113, 0.7039058888888884, 0.796...   \n",
       "1348  [1.5015572222222222, 1.4337159999999995, 1.370...   \n",
       "1349  [-1.5751811111111111, -1.5631377777777775, -1....   \n",
       "\n",
       "                                                 median  \\\n",
       "0     [-0.763766, -0.772598, -0.791928, -0.822014, -...   \n",
       "1     [0.275239, 0.25868, 0.245538, 0.23784, 0.22358...   \n",
       "2     [-0.687015, -0.698856, -0.710341, -0.720778, -...   \n",
       "3     [0.575349, 0.582675, 0.584939, 0.633389, 0.653...   \n",
       "4     [-0.0930824, -0.101238, -0.109498, -0.117654, ...   \n",
       "...                                                 ...   \n",
       "1345  [2.40088, 2.46057, 2.47082, 2.44175, 2.30596, ...   \n",
       "1346  [1.58066, 1.5715, 1.58053, 1.57022, 1.53138, 1...   \n",
       "1347  [-0.764809, -0.751949, -0.916217, -1.04173, -1...   \n",
       "1348  [1.28113, 1.01986, 0.719702, 0.67021, 0.769737...   \n",
       "1349  [-1.58918, -1.70852, -1.90109, -2.08984, -2.22...   \n",
       "\n",
       "                                                    std  \\\n",
       "0     [5.896175141545032, 5.880682855680641, 5.86252...   \n",
       "1     [5.968897493169099, 5.9594234160174775, 5.9505...   \n",
       "2     [5.111957573458653, 5.114029609246989, 5.11374...   \n",
       "3     [2.6670133308286776, 2.6983997285319745, 2.755...   \n",
       "4     [6.902218425274151, 6.892162149960471, 6.88511...   \n",
       "...                                                 ...   \n",
       "1345  [12.028850382953847, 12.028936154911227, 12.02...   \n",
       "1346  [11.372685329352743, 11.363242801631428, 11.34...   \n",
       "1347  [11.746792317965335, 11.828143714019394, 11.57...   \n",
       "1348  [10.081449476160767, 10.202951480173034, 10.25...   \n",
       "1349  [11.700960267042138, 11.708565885568827, 11.77...   \n",
       "\n",
       "                                                    rms  \n",
       "0     [6.7139387020852945, 6.698678691251001, 6.6821...  \n",
       "1     [6.077033334145694, 6.069318138938332, 6.06231...  \n",
       "2     [5.895792477643244, 5.895094258868253, 5.89177...  \n",
       "3     [2.6776416967357473, 2.708666211157235, 2.7638...  \n",
       "4     [7.251959362752469, 7.241090307321667, 7.23330...  \n",
       "...                                                 ...  \n",
       "1345  [12.4867217744446, 12.48744009378168, 12.48107...  \n",
       "1346  [11.447560440023688, 11.43535419295917, 11.411...  \n",
       "1347  [11.765537917860154, 11.849070310362286, 11.60...  \n",
       "1348  [10.192659006951517, 10.303191761557246, 10.34...  \n",
       "1349  [11.806509505510085, 11.812447452116865, 11.87...  \n",
       "\n",
       "[1350 rows x 8 columns]"
      ]
     },
     "execution_count": 17,
     "metadata": {},
     "output_type": "execute_result"
    }
   ],
   "source": [
    "train_meta"
   ]
  },
  {
   "cell_type": "code",
   "execution_count": 18,
   "metadata": {},
   "outputs": [],
   "source": [
    "# X_train, X_test, y_train, y_test = train_test_split(train_meta.rms, train_meta.labels, test_size=0.1, random_state=42)"
   ]
  },
  {
   "cell_type": "code",
   "execution_count": 19,
   "metadata": {},
   "outputs": [],
   "source": [
    "tensor_rms = torch.tensor(train_meta['rms'].tolist())\n",
    "tensor_mean = torch.tensor(train_meta['means'].tolist())\n",
    "tensor_median = torch.tensor(train_meta['median'].tolist())\n",
    "tensor_std = torch.tensor(train_meta['std'].tolist())\n",
    "\n",
    "labels_train = torch.tensor(train_meta.labels.tolist())"
   ]
  },
  {
   "cell_type": "code",
   "execution_count": 20,
   "metadata": {},
   "outputs": [],
   "source": [
    "result = torch.mean(torch.stack([tensor_rms, tensor_mean, tensor_median, tensor_std]), dim=0)"
   ]
  },
  {
   "cell_type": "markdown",
   "metadata": {},
   "source": [
    "# Hyperparameter search"
   ]
  },
  {
   "cell_type": "code",
   "execution_count": 21,
   "metadata": {},
   "outputs": [],
   "source": [
    "gsc = GridSearchCV(\n",
    "            estimator=XGBClassifier(),\n",
    "            param_grid={\"n_estimators\": [50, 100],\n",
    "                        \"learning_rate\": (0.05, 0.10, 0.20, 0.30, 0.40, 0.50),\n",
    "                        \"max_depth\": [ 3, 5, 10],\n",
    "                        \"min_child_weight\": [ 3, 5, 9],\n",
    "                        \"gamma\":[ 0.0, 0.3, 0.5],\n",
    "                        \"colsample_bytree\":[ 0.3, 0.5],},\n",
    "            cv=3, scoring='accuracy', verbose=1, n_jobs=-1)"
   ]
  },
  {
   "cell_type": "code",
   "execution_count": 22,
   "metadata": {
    "scrolled": true
   },
   "outputs": [
    {
     "name": "stdout",
     "output_type": "stream",
     "text": [
      "Fitting 3 folds for each of 648 candidates, totalling 1944 fits\n"
     ]
    },
    {
     "name": "stderr",
     "output_type": "stream",
     "text": [
      "[Parallel(n_jobs=-1)]: Using backend LokyBackend with 16 concurrent workers.\n",
      "[Parallel(n_jobs=-1)]: Done  18 tasks      | elapsed:   16.1s\n",
      "[Parallel(n_jobs=-1)]: Done 168 tasks      | elapsed:  1.7min\n",
      "[Parallel(n_jobs=-1)]: Done 418 tasks      | elapsed:  3.8min\n",
      "[Parallel(n_jobs=-1)]: Done 768 tasks      | elapsed:  6.9min\n",
      "[Parallel(n_jobs=-1)]: Done 1218 tasks      | elapsed: 12.2min\n",
      "[Parallel(n_jobs=-1)]: Done 1768 tasks      | elapsed: 19.8min\n",
      "[Parallel(n_jobs=-1)]: Done 1944 out of 1944 | elapsed: 22.1min finished\n"
     ]
    },
    {
     "data": {
      "text/plain": [
       "GridSearchCV(cv=3, estimator=XGBClassifier(), n_jobs=-1,\n",
       "             param_grid={'colsample_bytree': [0.3, 0.5],\n",
       "                         'gamma': [0.0, 0.3, 0.5],\n",
       "                         'learning_rate': (0.05, 0.1, 0.2, 0.3, 0.4, 0.5),\n",
       "                         'max_depth': [3, 5, 10], 'min_child_weight': [3, 5, 9],\n",
       "                         'n_estimators': [50, 100]},\n",
       "             scoring='accuracy', verbose=1)"
      ]
     },
     "execution_count": 22,
     "metadata": {},
     "output_type": "execute_result"
    }
   ],
   "source": [
    "gsc.fit(tensor_rms, labels_train)"
   ]
  },
  {
   "cell_type": "code",
   "execution_count": 23,
   "metadata": {},
   "outputs": [
    {
     "data": {
      "text/plain": [
       "{'colsample_bytree': 0.5,\n",
       " 'gamma': 0.3,\n",
       " 'learning_rate': 0.2,\n",
       " 'max_depth': 3,\n",
       " 'min_child_weight': 3,\n",
       " 'n_estimators': 50}"
      ]
     },
     "execution_count": 23,
     "metadata": {},
     "output_type": "execute_result"
    }
   ],
   "source": [
    "gsc.best_params_"
   ]
  },
  {
   "cell_type": "markdown",
   "metadata": {},
   "source": [
    "# Cross validation metrics"
   ]
  },
  {
   "cell_type": "code",
   "execution_count": 26,
   "metadata": {},
   "outputs": [],
   "source": [
    "model = XGBClassifier(n_estimators=50, learning_rate=0.2, max_depth=3, min_child_weight=3, gamma=0.3, colsample_bytree=0.5)\n",
    "n_splits = 5\n",
    "kf = KFold(n_splits=n_splits, shuffle=True)\n",
    "\n",
    "scoring=('accuracy')\n",
    "cv_results = cross_validate(model, tensor_rms, labels_train, cv=kf, scoring=scoring, return_train_score=False)"
   ]
  },
  {
   "cell_type": "code",
   "execution_count": 27,
   "metadata": {},
   "outputs": [
    {
     "data": {
      "text/plain": [
       "0.3214814814814815"
      ]
     },
     "execution_count": 27,
     "metadata": {},
     "output_type": "execute_result"
    }
   ],
   "source": [
    "np.mean(cv_results['test_score'])"
   ]
  },
  {
   "cell_type": "code",
   "execution_count": 28,
   "metadata": {},
   "outputs": [
    {
     "data": {
      "text/plain": [
       "XGBClassifier(colsample_bytree=0.5, gamma=0.3, learning_rate=0.2,\n",
       "              min_child_weight=3, n_estimators=50, objective='multi:softprob')"
      ]
     },
     "execution_count": 28,
     "metadata": {},
     "output_type": "execute_result"
    }
   ],
   "source": [
    "model.fit(tensor_rms, labels_train)"
   ]
  },
  {
   "cell_type": "code",
   "execution_count": 36,
   "metadata": {},
   "outputs": [],
   "source": [
    "test_path = '/home/18rvb/ELEC872/competition/Competition/test'\n",
    "test_paths = []\n",
    "\n",
    "for path, directories, files in os.walk(test_path):\n",
    "    for file in files:\n",
    "        test_paths.append(os.path.join(path, file))"
   ]
  },
  {
   "cell_type": "code",
   "execution_count": 44,
   "metadata": {},
   "outputs": [],
   "source": [
    "num_list_test = []\n",
    "for i in test_paths:\n",
    "    temp_list = np.genfromtxt(i)\n",
    "    num_list_test.append(temp_list)"
   ]
  },
  {
   "cell_type": "code",
   "execution_count": 45,
   "metadata": {},
   "outputs": [],
   "source": [
    "test_rms = []\n",
    "\n",
    "for i in num_list_test:\n",
    "    temp_rms = []\n",
    "    for k in i:\n",
    "        temp_rms.append(np.sqrt(np.mean(k**2)))\n",
    "    test_rms.append(temp_rms)"
   ]
  },
  {
   "cell_type": "code",
   "execution_count": 47,
   "metadata": {},
   "outputs": [],
   "source": [
    "tensor_rms_test = torch.tensor(test_rms)"
   ]
  },
  {
   "cell_type": "code",
   "execution_count": 48,
   "metadata": {},
   "outputs": [
    {
     "data": {
      "text/plain": [
       "torch.Size([150, 250])"
      ]
     },
     "execution_count": 48,
     "metadata": {},
     "output_type": "execute_result"
    }
   ],
   "source": [
    "tensor_rms_test.shape"
   ]
  },
  {
   "cell_type": "code",
   "execution_count": 49,
   "metadata": {},
   "outputs": [],
   "source": [
    "predicted_probs = model.predict_proba(tensor_rms_test)"
   ]
  },
  {
   "cell_type": "code",
   "execution_count": 62,
   "metadata": {},
   "outputs": [],
   "source": [
    "predicted_results = []\n",
    "\n",
    "for val in predicted_probs:\n",
    "    predicted_results.append(np.argmax(val))"
   ]
  },
  {
   "cell_type": "code",
   "execution_count": 71,
   "metadata": {},
   "outputs": [],
   "source": [
    "import pickle as pkl\n",
    "\n",
    "with open('/home/18rvb/ELEC872/competition/Competition/output/outputs_xgboost_32.pkl', 'wb+') as t:\n",
    "    pkl.dump(predicted_results, t)\n",
    "\n",
    "# predicted_results.to_csv('/home/18rvb/ELEC872/competition/Competition/output/outputs_xgboost_32.csv')"
   ]
  },
  {
   "cell_type": "code",
   "execution_count": 72,
   "metadata": {},
   "outputs": [],
   "source": [
    "with open('/home/18rvb/ELEC872/competition/Competition/output/outputs_xgboost_32.pkl', 'rb') as tp:\n",
    "    read_file = pkl.load(tp)"
   ]
  },
  {
   "cell_type": "code",
   "execution_count": 70,
   "metadata": {},
   "outputs": [
    {
     "data": {
      "text/plain": [
       "[7,\n",
       " 10,\n",
       " 0,\n",
       " 10,\n",
       " 8,\n",
       " 14,\n",
       " 9,\n",
       " 11,\n",
       " 7,\n",
       " 9,\n",
       " 5,\n",
       " 2,\n",
       " 0,\n",
       " 5,\n",
       " 11,\n",
       " 1,\n",
       " 12,\n",
       " 12,\n",
       " 10,\n",
       " 1,\n",
       " 1,\n",
       " 9,\n",
       " 0,\n",
       " 8,\n",
       " 4,\n",
       " 5,\n",
       " 4,\n",
       " 3,\n",
       " 10,\n",
       " 2,\n",
       " 6,\n",
       " 0,\n",
       " 8,\n",
       " 0,\n",
       " 7,\n",
       " 2,\n",
       " 11,\n",
       " 2,\n",
       " 4,\n",
       " 2,\n",
       " 1,\n",
       " 0,\n",
       " 4,\n",
       " 9,\n",
       " 12,\n",
       " 9,\n",
       " 12,\n",
       " 0,\n",
       " 14,\n",
       " 5,\n",
       " 5,\n",
       " 2,\n",
       " 1,\n",
       " 1,\n",
       " 10,\n",
       " 5,\n",
       " 12,\n",
       " 3,\n",
       " 11,\n",
       " 3,\n",
       " 0,\n",
       " 14,\n",
       " 8,\n",
       " 0,\n",
       " 11,\n",
       " 7,\n",
       " 11,\n",
       " 11,\n",
       " 0,\n",
       " 2,\n",
       " 7,\n",
       " 4,\n",
       " 0,\n",
       " 1,\n",
       " 2,\n",
       " 0,\n",
       " 4,\n",
       " 9,\n",
       " 3,\n",
       " 8,\n",
       " 11,\n",
       " 11,\n",
       " 11,\n",
       " 11,\n",
       " 0,\n",
       " 5,\n",
       " 12,\n",
       " 14,\n",
       " 1,\n",
       " 14,\n",
       " 8,\n",
       " 0,\n",
       " 8,\n",
       " 8,\n",
       " 9,\n",
       " 0,\n",
       " 0,\n",
       " 7,\n",
       " 1,\n",
       " 13,\n",
       " 2,\n",
       " 7,\n",
       " 2,\n",
       " 14,\n",
       " 0,\n",
       " 3,\n",
       " 11,\n",
       " 5,\n",
       " 12,\n",
       " 9,\n",
       " 2,\n",
       " 7,\n",
       " 7,\n",
       " 13,\n",
       " 9,\n",
       " 7,\n",
       " 9,\n",
       " 0,\n",
       " 0,\n",
       " 2,\n",
       " 13,\n",
       " 11,\n",
       " 10,\n",
       " 9,\n",
       " 1,\n",
       " 14,\n",
       " 8,\n",
       " 7,\n",
       " 6,\n",
       " 0,\n",
       " 12,\n",
       " 8,\n",
       " 8,\n",
       " 14,\n",
       " 14,\n",
       " 9,\n",
       " 12,\n",
       " 0,\n",
       " 13,\n",
       " 4,\n",
       " 2,\n",
       " 7,\n",
       " 3,\n",
       " 8,\n",
       " 4,\n",
       " 12,\n",
       " 4,\n",
       " 7,\n",
       " 14,\n",
       " 10]"
      ]
     },
     "execution_count": 70,
     "metadata": {},
     "output_type": "execute_result"
    }
   ],
   "source": [
    "read_file"
   ]
  }
 ],
 "metadata": {
  "kernelspec": {
   "display_name": "ptorch",
   "language": "python",
   "name": "myenv"
  },
  "language_info": {
   "codemirror_mode": {
    "name": "ipython",
    "version": 3
   },
   "file_extension": ".py",
   "mimetype": "text/x-python",
   "name": "python",
   "nbconvert_exporter": "python",
   "pygments_lexer": "ipython3",
   "version": "3.7.5"
  }
 },
 "nbformat": 4,
 "nbformat_minor": 4
}
